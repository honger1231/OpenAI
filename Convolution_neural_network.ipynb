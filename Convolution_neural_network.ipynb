{
  "cells": [
    {
      "cell_type": "markdown",
      "metadata": {
        "id": "AC7T_nr41bCy"
      },
      "source": [
        "## 環境初始化"
      ]
    },
    {
      "cell_type": "code",
      "execution_count": null,
      "metadata": {
        "id": "LBtXMECz1dOB"
      },
      "outputs": [],
      "source": [
        "# pytorch 套件\n",
        "import torch\n",
        "import torch.nn as nn\n",
        "import torch.optim as optim\n",
        "from torch.utils.data import DataLoader, TensorDataset\n",
        "import torchvision\n",
        "from torchvision import datasets, transforms\n",
        "\n",
        "# 其他套件載入\n",
        "import random\n",
        "import numpy as np\n",
        "import matplotlib.pyplot as plt\n",
        "import cv2 # opencv-python\n",
        "import os\n",
        "\n",
        "# scikit-learn\n",
        "from sklearn.datasets import load_iris # 載入鳶尾花資料集\n",
        "from sklearn.model_selection import train_test_split # 切割訓練、測試資料"
      ]
    },
    {
      "cell_type": "markdown",
      "metadata": {
        "id": "XZSJEmV3RKIx"
      },
      "source": [
        "## 1. Pytorch"
      ]
    },
    {
      "cell_type": "code",
      "execution_count": null,
      "metadata": {
        "id": "qab5fSfikxEK"
      },
      "outputs": [],
      "source": [
        "# 創建兩個純量\n",
        "scalar_1 = torch.tensor([5.0])\n",
        "scalar_2 = torch.tensor([3.0])"
      ]
    },
    {
      "cell_type": "code",
      "execution_count": null,
      "metadata": {
        "id": "aAD1_97Pk2O4"
      },
      "outputs": [],
      "source": [
        "# 加法\n",
        "result = scalar_1 + scalar_2\n",
        "print(f'加法計算結果：{result}')"
      ]
    },
    {
      "cell_type": "code",
      "execution_count": null,
      "metadata": {
        "id": "fktTG3DulDJw"
      },
      "outputs": [],
      "source": [
        "# 減法\n",
        "result = scalar_1 - scalar_2\n",
        "print(f'減法計算結果：{result}')"
      ]
    },
    {
      "cell_type": "code",
      "execution_count": null,
      "metadata": {
        "id": "W_fgOo-ClCo9"
      },
      "outputs": [],
      "source": [
        "# 乘法\n",
        "result = scalar_1 * scalar_2\n",
        "print(f'乘法計算結果：{result}')"
      ]
    },
    {
      "cell_type": "code",
      "execution_count": null,
      "metadata": {
        "id": "a7U5bFv3lPVN"
      },
      "outputs": [],
      "source": [
        "# 除法\n",
        "result = scalar_1 / scalar_2\n",
        "print(f'乘法計算結果：{result}')"
      ]
    },
    {
      "cell_type": "code",
      "execution_count": null,
      "metadata": {
        "id": "TMDE-xwkXyTu"
      },
      "outputs": [],
      "source": [
        "# 建立矩陣\n",
        "# 值從一個均勻分布採樣 U(−k,k), k = 1/sqrt(in_features).\n",
        "linear_layer = nn.Linear(1, 1)\n",
        "\n",
        "print(f'隱藏層的權重：{linear_layer.weight}')\n",
        "print(f'隱藏層的偏差值：{linear_layer.bias}')"
      ]
    },
    {
      "cell_type": "code",
      "execution_count": null,
      "metadata": {
        "id": "1CSI3sXNrf76"
      },
      "outputs": [],
      "source": [
        "# 輸入值為 5\n",
        "data = torch.tensor([5], dtype=torch.float32)\n",
        "data = linear_layer(data)\n",
        "print(f'輸出值：{data}')"
      ]
    },
    {
      "cell_type": "code",
      "execution_count": null,
      "metadata": {
        "id": "Wlx3c4SVYJXS"
      },
      "outputs": [],
      "source": [
        "# 可以控制參數\n",
        "linear_layer = nn.Linear(1, 1)\n",
        "linear_layer.weight = nn.Parameter(torch.tensor([[1.0]]))\n",
        "linear_layer.bias = nn.Parameter(torch.tensor([[1.0]]))\n",
        "print(f'隱藏層的權重：{linear_layer.weight}')\n",
        "print(f'隱藏層的偏差值：{linear_layer.bias}')"
      ]
    },
    {
      "cell_type": "code",
      "execution_count": null,
      "metadata": {
        "id": "TBC6Lzxxrrkf"
      },
      "outputs": [],
      "source": [
        "# 輸入值為 5\n",
        "data = torch.tensor([[5]], dtype=torch.float32)\n",
        "data = linear_layer(data)\n",
        "print(f'輸出值：{data}')"
      ]
    },
    {
      "cell_type": "markdown",
      "metadata": {
        "id": "6r_Y1-J7uEMt"
      },
      "source": [
        "## 2. Pytorch vs Numpy"
      ]
    },
    {
      "cell_type": "code",
      "source": [
        "# numpy 權重\n",
        "weight = np.random.randn(2, 3)\n",
        "bias = np.zeros(shape=(1, 3))\n",
        "print(f'Numpy 矩陣 weight 大小：{weight.shape}')\n",
        "print(f'Numpy 矩陣 bias 大小：{bias.shape}')"
      ],
      "metadata": {
        "id": "fnhpZv7TWs7C"
      },
      "execution_count": null,
      "outputs": []
    },
    {
      "cell_type": "markdown",
      "metadata": {
        "id": "AkywCLbv68qp"
      },
      "source": [
        "Applies a linear transformation to the incoming data: 𝑦 = 𝑥𝐴^𝑇 + 𝑏 -> [Pyotch Linear function](https://pytorch.org/docs/stable/generated/torch.nn.Linear.html)\n"
      ]
    },
    {
      "cell_type": "code",
      "execution_count": null,
      "metadata": {
        "id": "1z02or_g35TT"
      },
      "outputs": [],
      "source": [
        "# torch 權重\n",
        "linear_layer = nn.Linear(2, 3)\n",
        "print(f'Pytorch 矩陣 weight 大小：{linear_layer.weight.T.shape}')\n",
        "print(f'Pytorch 矩陣 bias 大小：{linear_layer.bias.shape}')"
      ]
    },
    {
      "cell_type": "code",
      "execution_count": null,
      "metadata": {
        "id": "521a3BjKWCSq"
      },
      "outputs": [],
      "source": [
        "# 自動求導\n",
        "x = torch.tensor(3.0, requires_grad=True) # 設置需要梯度\n",
        "y = x**2\n",
        "\n",
        "# 計算梯度\n",
        "y.backward() # 自動求導\n",
        "print(f\"x 的值為 {x}，梯度為 {x.grad}\")"
      ]
    },
    {
      "cell_type": "code",
      "execution_count": null,
      "metadata": {
        "id": "QRWmasxuYeci"
      },
      "outputs": [],
      "source": [
        "# 查看有無GPU，無則指定CPU\n",
        "device = torch.device('cuda' if torch.cuda.is_available() else 'cpu')\n",
        "print(f'現在有的計算裝置為：{device}')"
      ]
    },
    {
      "cell_type": "code",
      "execution_count": null,
      "metadata": {
        "id": "ptz-83Rk7BaC",
        "cellView": "form"
      },
      "outputs": [],
      "source": [
        "#@title 2.1 Numpy 做矩陣計算\n",
        "\n",
        "# 用 numpy 產生隨機資料\n",
        "numpy_data = np.random.randn(10, 4) # (10 , 4) (資料數量, 特徵)\n",
        "\n",
        "# 建立參數\n",
        "w1 = np.random.randn(4, 3)          # (4  , 3) (特徵   , 種類)\n",
        "b1 = np.zeros(shape=(1, 3))\n",
        "\n",
        "# 矩陣乘法\n",
        "numpy_data = np.dot(numpy_data, w1) + b1 # (10, 4) dot (4, 3)\n",
        "print(f'輸出維度：{numpy_data.shape}')"
      ]
    },
    {
      "cell_type": "code",
      "execution_count": null,
      "metadata": {
        "id": "tv-lyPYE8nQk",
        "cellView": "form"
      },
      "outputs": [],
      "source": [
        "#@title 2.2 Pytorch 做矩陣計算\n",
        "\n",
        "# 用 torch 產生隨機資料\n",
        "tensor_data = torch.randn(10, 4)   # (10 , 4) (資料數量, 特徵)\n",
        "\n",
        "# 建立參數\n",
        "linear_layer = nn.Linear(4, 3)     # (4  , 3) (特徵   , 種類)\n",
        "\n",
        "# 矩陣乘法\n",
        "tensor_data = linear_layer(tensor_data) # (10, 4) dot (4, 3)\n",
        "print(f'輸出維度：{tensor_data.shape}')"
      ]
    },
    {
      "cell_type": "code",
      "execution_count": null,
      "metadata": {
        "id": "A79mJDXU1Psz",
        "cellView": "form"
      },
      "outputs": [],
      "source": [
        "#@title 2.3 激活函數\n",
        "tensor_data = torch.randn(5, 1)  # 10 筆資料, 4 個特徵\n",
        "print(f'輸出前：{tensor_data}')\n",
        "\n",
        "activate_layer = nn.Sigmoid() # ReLU, Sigmoid, Tanh\n",
        "\n",
        "tensor_data = activate_layer(tensor_data)\n",
        "print(f'輸出後：{tensor_data}')"
      ]
    },
    {
      "cell_type": "markdown",
      "metadata": {
        "id": "TjW1hxRI9xgo"
      },
      "source": [
        "## 3. 建立分類器"
      ]
    },
    {
      "cell_type": "code",
      "execution_count": null,
      "metadata": {
        "id": "ISgjn_x1YwBX"
      },
      "outputs": [],
      "source": [
        "# 神經網路物件化\n",
        "# 1. __init__: 模型架構\n",
        "# 2. forward: 矩陣乘法\n",
        "class TestNet(nn.Module):\n",
        "\n",
        "    def __init__(self):\n",
        "        super(TestNet, self).__init__()\n",
        "\n",
        "        self.hidden_layer = nn.Linear(4, 3)\n",
        "\n",
        "    def forward(self, x):         # Input: (10,4)\n",
        "\n",
        "        x = self.hidden_layer(x)  # Layer: (4, 3)\n",
        "\n",
        "        return x                  # Output:(10, 3)\n",
        "\n",
        "test_model = TestNet()\n",
        "\n",
        "tensor_data = torch.randn(10, 4)  # 10 筆資料, 4 個特徵\n",
        "tensor_data = test_model(tensor_data)\n",
        "print(tensor_data.shape)"
      ]
    },
    {
      "cell_type": "markdown",
      "metadata": {
        "id": "YoyNLPfMHQXb"
      },
      "source": [
        "## 4. 鳶尾花分類 (Pytorch版本)"
      ]
    },
    {
      "cell_type": "markdown",
      "source": [
        "### 4.1 資料載入以及資料轉換"
      ],
      "metadata": {
        "id": "M14dDhyIhLNE"
      }
    },
    {
      "cell_type": "code",
      "execution_count": null,
      "metadata": {
        "id": "1zML0AuMHVd_"
      },
      "outputs": [],
      "source": [
        "# 資料前處理\n",
        "iris = load_iris()\n",
        "\n",
        "X = iris.data\n",
        "y = iris.target"
      ]
    },
    {
      "cell_type": "code",
      "execution_count": null,
      "metadata": {
        "id": "1oKj9LI-AMua"
      },
      "outputs": [],
      "source": [
        "# 模型切分 0.2\n",
        "X_train, X_test, y_train, y_test = train_test_split(X, y, test_size=0.2, random_state=42)\n",
        "\n",
        "# 資料轉換：numpy -> torch\n",
        "X_train = torch.tensor(X_train, dtype=torch.float32)\n",
        "y_train = torch.tensor(y_train, dtype=torch.long)\n",
        "X_test = torch.tensor(X_test, dtype=torch.float32)\n",
        "y_test = torch.tensor(y_test, dtype=torch.long)"
      ]
    },
    {
      "cell_type": "code",
      "execution_count": null,
      "metadata": {
        "id": "s_KpL_FBC8it"
      },
      "outputs": [],
      "source": [
        "# 使用 Pytorch Dataset\n",
        "train_dataset = TensorDataset(X_train, y_train)\n",
        "test_dataset = TensorDataset(X_test, y_test)\n",
        "\n",
        "# 使用 DataLoader，具備迭代器(Iterator)性質\n",
        "train_loader = DataLoader(train_dataset, batch_size=64, shuffle=True)\n",
        "test_loader = DataLoader(test_dataset, batch_size=64, shuffle=False)"
      ]
    },
    {
      "cell_type": "markdown",
      "source": [
        "### 4.2 搭建網路、損失函數與優化器"
      ],
      "metadata": {
        "id": "jiKadQ6PhRBn"
      }
    },
    {
      "cell_type": "code",
      "execution_count": null,
      "metadata": {
        "id": "I36M4O_0HbMI"
      },
      "outputs": [],
      "source": [
        "# 建立網路\n",
        "class IrisNet(nn.Module):\n",
        "    def __init__(self):\n",
        "        super(IrisNet, self).__init__()\n",
        "        self.hidden_layer = nn.Linear(4, 3)\n",
        "\n",
        "    def forward(self, x):         # A = (資料數量, 4)\n",
        "        x = self.hidden_layer(x)  # B = (4      , 3)\n",
        "        return x                  # A dot B = (資料數量, 3) = C\n",
        "\n",
        "# 創建模型實例\n",
        "model = IrisNet()"
      ]
    },
    {
      "cell_type": "code",
      "execution_count": null,
      "metadata": {
        "id": "v7cTJKvQjVDu"
      },
      "outputs": [],
      "source": [
        "# 設置優化器和損失函數\n",
        "optimizer = optim.SGD(model.parameters(), lr=0.01, momentum=0.9)\n",
        "criterion = nn.CrossEntropyLoss()"
      ]
    },
    {
      "cell_type": "code",
      "source": [],
      "metadata": {
        "id": "WJpYe4H7hbvE"
      },
      "execution_count": null,
      "outputs": []
    },
    {
      "cell_type": "markdown",
      "source": [
        "### 4.3 建立評估方式與訓練"
      ],
      "metadata": {
        "id": "Mgzlgdylhd7V"
      }
    },
    {
      "cell_type": "code",
      "source": [
        "# 定義評估方法\n",
        "def eval_model(model, test_loader):\n",
        "\n",
        "  model.eval()\n",
        "\n",
        "  with torch.no_grad():\n",
        "\n",
        "      correct = 0\n",
        "      total = 0\n",
        "      for X_batch, y_batch in test_loader:\n",
        "\n",
        "          outputs = model(X_batch)\n",
        "          _, predicted = torch.max(outputs.data, 1)\n",
        "\n",
        "          total += y_batch.size(0)\n",
        "          correct += (predicted == y_batch).sum().item()\n",
        "\n",
        "      print(f'Test Accuracy: {100 * correct / total:.2f}')"
      ],
      "metadata": {
        "id": "lBSv6ajMgdsW"
      },
      "execution_count": null,
      "outputs": []
    },
    {
      "cell_type": "code",
      "execution_count": null,
      "metadata": {
        "id": "qNfyKLJULz3C"
      },
      "outputs": [],
      "source": [
        "# 評估模型: Before\n",
        "eval_model(model, test_loader)"
      ]
    },
    {
      "cell_type": "code",
      "execution_count": null,
      "metadata": {
        "id": "CdCHn0jVkWXh"
      },
      "outputs": [],
      "source": [
        "# 監控訓練過程\n",
        "train_losses = []\n",
        "\n",
        "num_epochs = 100\n",
        "for epoch in range(num_epochs):\n",
        "    model.train()\n",
        "    running_train_loss = 0.0\n",
        "    correct_train = 0\n",
        "    total_train = 0\n",
        "\n",
        "    for X_batch, y_batch in train_loader:\n",
        "\n",
        "        optimizer.zero_grad()\n",
        "\n",
        "        outputs = model(X_batch)\n",
        "        loss = criterion(outputs, y_batch)\n",
        "        loss.backward()\n",
        "        optimizer.step()\n",
        "\n",
        "        running_train_loss += loss.item()\n",
        "\n",
        "    train_loss = running_train_loss / len(train_loader)\n",
        "    train_losses.append(train_loss)\n",
        "\n",
        "    if (epoch + 1) % 10 == 0:\n",
        "        print(f'Epoch [{epoch + 1}/{num_epochs}], Loss: {loss.item():.4f}')"
      ]
    },
    {
      "cell_type": "code",
      "execution_count": null,
      "metadata": {
        "id": "QTmDyWiblUy4",
        "cellView": "form"
      },
      "outputs": [],
      "source": [
        "#@title 4.4  視覺化訓練過程\n",
        "plt.figure(figsize=(12, 5))\n",
        "plt.plot(train_losses, label='Train Loss', color='blue')\n",
        "plt.xlabel('Epoch')\n",
        "plt.ylabel('Loss')\n",
        "plt.title('Loss Over Epochs')\n",
        "plt.legend()\n",
        "\n",
        "plt.show()"
      ]
    },
    {
      "cell_type": "code",
      "source": [
        "# 評估模型: After\n",
        "eval_model(model, test_loader)"
      ],
      "metadata": {
        "id": "qAxC8teXp88t"
      },
      "execution_count": null,
      "outputs": []
    },
    {
      "cell_type": "code",
      "execution_count": null,
      "metadata": {
        "id": "SmVIWIk2q87c"
      },
      "outputs": [],
      "source": [
        "# 保存模型\n",
        "torch.save(model.state_dict(), 'model.pth')"
      ]
    },
    {
      "cell_type": "markdown",
      "metadata": {
        "id": "nbGNrmQpieNB"
      },
      "source": [
        "## 5. 手寫數字辨識 資料集"
      ]
    },
    {
      "cell_type": "code",
      "execution_count": null,
      "metadata": {
        "id": "83lKyrHBi3sq"
      },
      "outputs": [],
      "source": [
        "# 加載MNIST數據集\n",
        "transform = transforms.Compose([transforms.ToTensor()])\n",
        "\n",
        "train_dataset = torchvision.datasets.MNIST(root='./data', train=True, download=True, transform=transform)\n",
        "train_loader = torch.utils.data.DataLoader(dataset=train_dataset, batch_size=64, shuffle=True)\n",
        "\n",
        "test_dataset = torchvision.datasets.MNIST(root='./data', train=False, download=True, transform=transform)\n",
        "test_loader = torch.utils.data.DataLoader(dataset=test_dataset, batch_size=64, shuffle=False)"
      ]
    },
    {
      "cell_type": "code",
      "execution_count": null,
      "metadata": {
        "id": "gG5Y34CzXqrd"
      },
      "outputs": [],
      "source": [
        "print(f'訓練資料集數量：{len(train_dataset)}')\n",
        "print(f'測試資料集數量：{len(test_dataset)}')"
      ]
    },
    {
      "cell_type": "code",
      "execution_count": null,
      "metadata": {
        "id": "RM6bMqvfVWo9"
      },
      "outputs": [],
      "source": [
        "# 隨機挑出五筆資料\n",
        "indices = random.sample(range(len(train_dataset)), 5)\n",
        "samples = [train_dataset[i] for i in indices]\n",
        "\n",
        "# 顯示圖片\n",
        "fig, axes = plt.subplots(1, 5, figsize=(15, 3))\n",
        "for i, (image, label) in enumerate(samples):\n",
        "    axes[i].imshow(image.squeeze(), cmap='gray')\n",
        "    axes[i].set_title(f'Label: {label}')\n",
        "    axes[i].axis('off')\n",
        "\n",
        "plt.show()"
      ]
    },
    {
      "cell_type": "markdown",
      "metadata": {
        "id": "rFBsqR-3XdoI"
      },
      "source": [
        "## 6. 圖片資料的前處理"
      ]
    },
    {
      "cell_type": "code",
      "execution_count": null,
      "metadata": {
        "id": "XwVYanM8byvU"
      },
      "outputs": [],
      "source": [
        "# 資料前處理\n",
        "transform = transforms.ToTensor() # numpy -> torch"
      ]
    },
    {
      "cell_type": "code",
      "execution_count": null,
      "metadata": {
        "id": "khG1UQAVb39O"
      },
      "outputs": [],
      "source": [
        "# 建立 numpy 資料\n",
        "data = np.array([[10,9,7,4,1]])\n",
        "\n",
        "# 轉換資料類別：numpy -> torch\n",
        "transform(data)"
      ]
    },
    {
      "cell_type": "code",
      "execution_count": null,
      "metadata": {
        "id": "kp59rBhGeBfI"
      },
      "outputs": [],
      "source": [
        "# 第 3 筆資料\n",
        "image, label = test_dataset[3]"
      ]
    },
    {
      "cell_type": "code",
      "execution_count": null,
      "metadata": {
        "id": "VUV109hHeneb"
      },
      "outputs": [],
      "source": [
        "# 查看資料\n",
        "print(f'影像大小：{image.shape}')\n",
        "print(f'標籤：{label}')"
      ]
    },
    {
      "cell_type": "code",
      "execution_count": null,
      "metadata": {
        "id": "9iV8WJzHe0xr"
      },
      "outputs": [],
      "source": [
        "# 影像呈現\n",
        "plt.imshow(image[0], cmap='gray')"
      ]
    },
    {
      "cell_type": "code",
      "execution_count": null,
      "metadata": {
        "id": "NOgg0Q-yfBwc"
      },
      "outputs": [],
      "source": [
        "# 影像呈現\n",
        "plt.imshow(image[0], cmap='inferno')\n",
        "# viridis 藍色到綠色\n",
        "# plasma  紫色到黃色\n",
        "# inferno  黑色到黃色"
      ]
    },
    {
      "cell_type": "code",
      "execution_count": null,
      "metadata": {
        "id": "0CAdQ5x0f_RZ"
      },
      "outputs": [],
      "source": [
        "# 圖片旋轉\n",
        "image, label = test_dataset[500]\n",
        "\n",
        "transform = transforms.RandomRotation(degrees=90)\n",
        "transform_image = transform(image)\n",
        "\n",
        "plt.imshow(transform_image[0], cmap='gray')"
      ]
    },
    {
      "cell_type": "code",
      "execution_count": null,
      "metadata": {
        "id": "acheEA_MhZuU"
      },
      "outputs": [],
      "source": [
        "# 圖片縮放\n",
        "transform = transforms.Resize((28,42))\n",
        "transform_image = transform(image)\n",
        "\n",
        "plt.imshow(transform_image[0], cmap='gray')"
      ]
    },
    {
      "cell_type": "code",
      "execution_count": null,
      "metadata": {
        "id": "OQsWAbcceBxL"
      },
      "outputs": [],
      "source": [
        "# 圖片剪裁\n",
        "transform = transforms.CenterCrop((14,14))\n",
        "transform_image = transform(image)\n",
        "\n",
        "plt.imshow(transform_image[0], cmap='gray')"
      ]
    },
    {
      "cell_type": "code",
      "execution_count": null,
      "metadata": {
        "id": "84JtYVmAiEKK"
      },
      "outputs": [],
      "source": [
        "# 水平翻轉\n",
        "transform = transforms.RandomHorizontalFlip(p=1)\n",
        "transform_image = transform(image)\n",
        "\n",
        "plt.imshow(transform_image[0], cmap='gray')"
      ]
    },
    {
      "cell_type": "code",
      "source": [
        "# 多種前處理\n",
        "transform = transforms.Compose([      # 包裝多層邏輯\n",
        "\n",
        "    transforms.CenterCrop((14,14)),   # 裁減\n",
        "    transforms.RandomHorizontalFlip(p=1)   # 水平翻轉\n",
        "\n",
        "    ])\n",
        "\n",
        "transform_image = transform(image)\n",
        "\n",
        "plt.imshow(transform_image[0], cmap='gray')"
      ],
      "metadata": {
        "id": "czGjmeQSXkse"
      },
      "execution_count": null,
      "outputs": []
    },
    {
      "cell_type": "markdown",
      "metadata": {
        "id": "LP-hQpSAXjqQ"
      },
      "source": [
        "## 隨堂練習 A"
      ]
    },
    {
      "cell_type": "code",
      "execution_count": null,
      "metadata": {
        "id": "U_p97W8BmFSQ",
        "cellView": "form"
      },
      "outputs": [],
      "source": [
        "#@title 練習 1：設計圖片的前處理流程\n",
        "### 情境：公司的資料科學家經過統計發現，圖片旋轉45%，接著縮放到原本圖片尺寸的2倍，\n",
        "### 模型表現最佳，身為資料工程師的你，請實現他的需求，給他一個建立好的 transform 物件\n",
        "### 提示：需要注意順序，旋轉45 -> 放大2倍 (原始尺寸 28x28)\n",
        "### 參考：（圖片資料的前處理）：（圖片旋轉）、（圖片縮放）\n",
        "\n",
        "\n",
        "image, label = test_dataset[1000]\n",
        "print(f'圖片大小：{image.shape}')\n",
        "\n",
        "### 實作練習 ###\n",
        "\n",
        "transform = transforms.Compose([\n",
        "    ?,\n",
        "    ?\n",
        "])\n",
        "\n",
        "### 實作練習 ###\n",
        "\n",
        "transform_image = transform(image)\n",
        "plt.imshow(transform_image[0], cmap='gray')\n",
        "\n",
        "### 實作結果\n",
        "# 視覺化的數字有旋轉，且顯示較為模糊"
      ]
    },
    {
      "cell_type": "code",
      "execution_count": null,
      "metadata": {
        "id": "LztA-vnBqbGF",
        "cellView": "form"
      },
      "outputs": [],
      "source": [
        "#@title 練習 2：搭建簡易商品分類模型\n",
        "### 情境：老闆想使用類神經網路來做商品分類，請幫他實作出來\n",
        "### 模型設計為兩層：(100, 256) -> (256, 10)\n",
        "### 參考：4.1 搭建網路）\n",
        "\n",
        "class Three_layer_model(nn.Module):\n",
        "    def __init__(self):\n",
        "        super(Three_layer_model, self).__init__()\n",
        "\n",
        "        ### 實作練習 ###\n",
        "\n",
        "        self.layer_1 = ?\n",
        "        self.layer_2 = ?\n",
        "\n",
        "        ### 實作練習 ###\n",
        "\n",
        "    def forward(self, x):\n",
        "\n",
        "        ### 實作練習 ###\n",
        "\n",
        "        x = ?\n",
        "        x = ?\n",
        "\n",
        "        ### 實作練習 ###\n",
        "\n",
        "        return x\n",
        "\n",
        "model = Three_layer_model()\n",
        "\n",
        "tensor_data = torch.randn(30, 100)  # 30 筆資料, 100 個特徵\n",
        "tensor_data = model(tensor_data)    # 前向傳播\n",
        "print(tensor_data)\n",
        "### 實作結果\n",
        "# 只要 model(tensor_data) 能做一次前向傳播即可"
      ]
    },
    {
      "cell_type": "markdown",
      "source": [
        "### 練習 3：搭建手寫數字辨識模型"
      ],
      "metadata": {
        "id": "FdqDNyjT6FNm"
      }
    },
    {
      "cell_type": "code",
      "execution_count": null,
      "metadata": {
        "id": "BDQujm-7R8Hj",
        "cellView": "form"
      },
      "outputs": [],
      "source": [
        "#@title 3.1 搭建模型\n",
        "### 情境：地方的郵局委託你做手寫數字辨識，請搭建一個三層的網路的模型\n",
        "### 模型設計為(784, 512) -> (ReLU) -> (512, 10)，\n",
        "### 參考：（4.1 搭建網路）、（2.3 激活函數）\n",
        "\n",
        "class Three_layer_model(nn.Module):\n",
        "    def __init__(self):\n",
        "        super(Three_layer_model, self).__init__()\n",
        "\n",
        "        ### 實作練習 ###\n",
        "\n",
        "        self.flatten = nn.Flatten() # 資料攤平，2維度圖片，轉為1維資料\n",
        "\n",
        "        self.layer_1 = ?\n",
        "        self.relu = ?\n",
        "        self.layer_2 = ?\n",
        "\n",
        "        ### 實作練習 ###\n",
        "\n",
        "    def forward(self, x):\n",
        "\n",
        "        ### 實作練習 ###\n",
        "\n",
        "        x = self.flatten(x)\n",
        "        x = ?\n",
        "        x = ?\n",
        "        x = ?\n",
        "\n",
        "        ### 實作練習 ###\n",
        "\n",
        "        return x\n",
        "\n",
        "image, label = test_dataset[3]\n",
        "model = Three_layer_model()\n",
        "data = model(image) # 測試\n",
        "print(data.shape)\n",
        "\n",
        "### 實作練習\n",
        "# 模型建立完成，測試的結果可以顯示資料，則成功\n",
        "# 即可進行下方的模型訓練"
      ]
    },
    {
      "cell_type": "code",
      "execution_count": null,
      "metadata": {
        "id": "KlbSjB3vSBQY",
        "cellView": "form"
      },
      "outputs": [],
      "source": [
        "#@title 3.2 訓練模型\n",
        "# 用於記錄損失和準確率的列表\n",
        "train_losses = []\n",
        "train_accuracies = []\n",
        "\n",
        "criterion = nn.CrossEntropyLoss()\n",
        "optimizer = optim.SGD(model.parameters(), lr=0.01)\n",
        "\n",
        "num_epochs = 5\n",
        "# 訓練模型\n",
        "for epoch in range(num_epochs):\n",
        "    model.train()\n",
        "    running_train_loss = 0.0\n",
        "    correct_train = 0\n",
        "    total_train = 0\n",
        "\n",
        "    for images, labels in train_loader:\n",
        "        # 前向傳播\n",
        "        outputs = model(images)\n",
        "        loss = criterion(outputs, labels)\n",
        "\n",
        "        # 反向傳播和優化\n",
        "        optimizer.zero_grad()\n",
        "        loss.backward()\n",
        "        optimizer.step()\n",
        "\n",
        "        running_train_loss += loss.item()\n",
        "        _, predicted = torch.max(outputs.data, 1)\n",
        "        total_train += labels.size(0)\n",
        "        correct_train += (predicted == labels).sum().item()\n",
        "\n",
        "    train_loss = running_train_loss / len(train_loader)\n",
        "    train_accuracy = 100 * correct_train / total_train\n",
        "    train_losses.append(train_loss)\n",
        "    train_accuracies.append(train_accuracy)\n",
        "\n",
        "    print(f'Epoch [{epoch+1}/{num_epochs}], '\n",
        "          f'Train Loss: {train_loss:.4f}, Train Accuracy: {train_accuracy:.2f}%, ')"
      ]
    },
    {
      "cell_type": "code",
      "execution_count": null,
      "metadata": {
        "id": "BvyDCQ8yt7aq",
        "cellView": "form"
      },
      "outputs": [],
      "source": [
        "#@title 3.3 評估模型\n",
        "model.eval()\n",
        "running_test_loss = 0.0\n",
        "correct_test = 0\n",
        "total_test = 0\n",
        "with torch.no_grad():\n",
        "    for images, labels in test_loader:\n",
        "        outputs = model(images)\n",
        "        loss = criterion(outputs, labels)\n",
        "        running_test_loss += loss.item()\n",
        "        _, predicted = torch.max(outputs.data, 1)\n",
        "        total_test += labels.size(0)\n",
        "        correct_test += (predicted == labels).sum().item()\n",
        "\n",
        "test_loss = running_test_loss / len(test_loader)\n",
        "test_accuracy = 100 * correct_test / total_test\n",
        "\n",
        "print(f'Test Loss: {test_loss:.4f}, Test Accuracy: {test_accuracy:.2f}%')"
      ]
    },
    {
      "cell_type": "code",
      "execution_count": null,
      "metadata": {
        "id": "CrLDIsPPTvkt",
        "cellView": "form"
      },
      "outputs": [],
      "source": [
        "#@title 3.4 觀看訓練過程\n",
        "# 視覺化損失值\n",
        "plt.figure(figsize=(12, 5))\n",
        "plt.subplot(1, 2, 1)\n",
        "plt.plot(train_losses, label='Train Loss', color='blue')\n",
        "plt.xlabel('Epoch')\n",
        "plt.ylabel('Loss')\n",
        "plt.title('Loss Over Epochs')\n",
        "plt.legend()\n",
        "\n",
        "# 視覺化準確率\n",
        "plt.subplot(1, 2, 2)\n",
        "plt.plot(train_accuracies, label='Train Accuracy', color='blue')\n",
        "plt.xlabel('Epoch')\n",
        "plt.ylabel('Accuracy (%)')\n",
        "plt.title('Accuracy Over Epochs')\n",
        "plt.legend()\n",
        "\n",
        "plt.tight_layout()\n",
        "plt.show()"
      ]
    },
    {
      "cell_type": "code",
      "source": [
        "#@title 3.5 觀看照片結果 -> [製作圖片](https://docs.google.com/drawings)\n",
        "image_file = 'test.png'\n",
        "\n",
        "if os.path.isfile(image_file):\n",
        "  image = cv2.imread(image_file)\n",
        "  image = cv2.resize(image, (28,28), interpolation=cv2.INTER_AREA)\n",
        "  gray_image = cv2.cvtColor(image, cv2.COLOR_BGR2GRAY)\n",
        "\n",
        "  gray_image = gray_image.reshape((1, 1, 28, 28)) # 2維 擴增為 4 維度\n",
        "  gray_image = gray_image / 255\n",
        "  gray_image = torch.Tensor(gray_image)\n",
        "  plt.imshow(image)\n",
        "\n",
        "else:\n",
        "  print('No file is found')"
      ],
      "metadata": {
        "id": "TFDfyEid4gLG",
        "cellView": "form"
      },
      "execution_count": null,
      "outputs": []
    },
    {
      "cell_type": "code",
      "source": [
        "#@title 3.6 模型評估\n",
        "if os.path.isfile(image_file):\n",
        "  model.eval()\n",
        "\n",
        "  with torch.no_grad():\n",
        "      outputs = model(gray_image)\n",
        "      prob, predicted = torch.max(outputs.data, 1)\n",
        "      print(f'預測類別：{predicted.item()}')"
      ],
      "metadata": {
        "id": "OZmyT-Ni7v6w",
        "cellView": "form"
      },
      "execution_count": null,
      "outputs": []
    },
    {
      "cell_type": "markdown",
      "metadata": {
        "id": "L67FJ6qiHs1Z"
      },
      "source": [
        "## 7.手寫數字辨識 + CNN + GPU 訓練"
      ]
    },
    {
      "cell_type": "code",
      "execution_count": null,
      "metadata": {
        "id": "pYltRBTRIGOE",
        "cellView": "form"
      },
      "outputs": [],
      "source": [
        "#@title 7.1 定義資料處方式與資料集\n",
        "\n",
        "# 前置設定\n",
        "transform = transforms.Compose([\n",
        "    transforms.ToTensor()\n",
        "])\n",
        "\n",
        "# 加載 MNIST 數據集\n",
        "train_dataset = datasets.MNIST(root='./data', train=True, download=True, transform=transform)\n",
        "test_dataset = datasets.MNIST(root='./data', train=False, download=True, transform=transform)\n",
        "\n",
        "train_loader = DataLoader(dataset=train_dataset, batch_size=256, shuffle=True)\n",
        "test_loader = DataLoader(dataset=test_dataset, batch_size=256, shuffle=False)"
      ]
    },
    {
      "cell_type": "code",
      "execution_count": null,
      "metadata": {
        "id": "WVUlf6VVIIkB"
      },
      "outputs": [],
      "source": [
        "#@title 7.2 建立模型與優化器\n",
        "class CNN(nn.Module):\n",
        "    def __init__(self):\n",
        "        super(CNN, self).__init__()\n",
        "\n",
        "        self.conv1 = nn.Conv2d(in_channels=1, out_channels=32, kernel_size=3, padding=1)\n",
        "        self.pool1 = nn.MaxPool2d(kernel_size=2, stride=2, padding=0)\n",
        "\n",
        "        self.conv2 = nn.Conv2d(in_channels=32, out_channels=64, kernel_size=3, padding=1)\n",
        "        self.pool2 = nn.MaxPool2d(kernel_size=2, stride=2, padding=0)\n",
        "\n",
        "        self.fc1 = nn.Linear(64 * 7 * 7, 128)\n",
        "        self.fc2 = nn.Linear(128, 10)\n",
        "        self.relu = nn.ReLU()\n",
        "\n",
        "    def forward(self, x):\n",
        "\n",
        "        x = self.relu(self.conv1(x))\n",
        "        x = self.pool1(x)\n",
        "\n",
        "        x = self.relu(self.conv2(x))\n",
        "        x = self.pool2(x)\n",
        "\n",
        "        x = x.view(-1, 64 * 7 * 7)\n",
        "\n",
        "        x = self.relu(self.fc1(x))\n",
        "        x = self.fc2(x)\n",
        "        return x\n",
        "\n",
        "model = CNN()\n",
        "image, label = test_dataset[3]\n",
        "\n",
        "print(model(image))"
      ]
    },
    {
      "cell_type": "code",
      "execution_count": null,
      "metadata": {
        "id": "jDeQeY9PvVt7"
      },
      "outputs": [],
      "source": [
        "#@title 7.3 創建模型與訓練策略\n",
        "model = CNN().to('cuda') # 放入 GPU 計算\n",
        "\n",
        "# 設置損失函數和優化器\n",
        "criterion = nn.CrossEntropyLoss()\n",
        "optimizer = optim.Adam(model.parameters(), lr=0.01)"
      ]
    },
    {
      "cell_type": "code",
      "execution_count": null,
      "metadata": {
        "id": "9Ev_l3mHHtdD"
      },
      "outputs": [],
      "source": [
        "#@title 7.4 訓練模型\n",
        "num_epochs = 5\n",
        "for epoch in range(num_epochs):\n",
        "    model.train()\n",
        "    for i, (images, labels) in enumerate(train_loader):\n",
        "        optimizer.zero_grad()\n",
        "        images = images.to('cuda') # 放入 GPU 計算\n",
        "        labels = labels.to('cuda') # 放入 GPU 計算\n",
        "        outputs = model(images)\n",
        "        loss = criterion(outputs, labels)\n",
        "        loss.backward()\n",
        "        optimizer.step()\n",
        "\n",
        "        if (i + 1) % 100 == 0:\n",
        "            print(f'Epoch [{epoch + 1}/{num_epochs}], Step [{i + 1}/{len(train_loader)}], Loss: {loss.item():.4f}')"
      ]
    },
    {
      "cell_type": "code",
      "execution_count": null,
      "metadata": {
        "id": "qqMM2870NpY2",
        "cellView": "form"
      },
      "outputs": [],
      "source": [
        "#@title 7.6 測試模型\n",
        "model.eval()\n",
        "with torch.no_grad():\n",
        "    correct = 0\n",
        "    total = 0\n",
        "    for images, labels in test_loader:\n",
        "        images = images.to('cuda') # 放入 GPU 計算\n",
        "        labels = labels.to('cuda') # 放入 GPU 計算\n",
        "        outputs = model(images)\n",
        "        _, predicted = torch.max(outputs.data, 1)\n",
        "        total += labels.size(0)\n",
        "        correct += (predicted == labels).sum().item()\n",
        "\n",
        "    print(f'Test Accuracy: {100 * correct / total:.2f}%')"
      ]
    },
    {
      "cell_type": "markdown",
      "metadata": {
        "id": "-kM-IT1swX9G"
      },
      "source": [
        "## 隨堂練習 B"
      ]
    },
    {
      "cell_type": "markdown",
      "source": [
        "### 練習 增加網路的深度"
      ],
      "metadata": {
        "id": "HThoNy43a4-y"
      }
    },
    {
      "cell_type": "code",
      "execution_count": null,
      "metadata": {
        "id": "QHUNGnUJwZpa"
      },
      "outputs": [],
      "source": [
        "### 情境：對於以下的卷積神經網路進行改良，請幫它疊加更深的一層卷積 +Maxpooling\n",
        "### 新的一層 Conv2d(64, 128)\n",
        "### 參考：（7.2 建立模型與優化器）\n",
        "\n",
        "class CNN(nn.Module):\n",
        "    def __init__(self):\n",
        "        super(CNN, self).__init__()\n",
        "\n",
        "        self.conv1 = nn.Conv2d(in_channels=1, out_channels=32, kernel_size=3, padding=1)\n",
        "        self.pool1 = nn.MaxPool2d(kernel_size=2, stride=2, padding=0) # (28,28) -> (14,14)\n",
        "\n",
        "        self.conv2 = nn.Conv2d(in_channels=32, out_channels=64, kernel_size=3, padding=1)\n",
        "        self.pool2 = nn.MaxPool2d(kernel_size=2, stride=2, padding=0) # (14,14) -> (7,7)\n",
        "\n",
        "         ## 實作練習 ##\n",
        "\n",
        "        self.conv3 = nn.Conv2d(in_channels= ? , out_channels= ? , kernel_size=3, padding=1)\n",
        "        self.pool3 = nn.MaxPool2d(kernel_size=2, stride=2, padding=0)   # (7,7) -> (3,3)\n",
        "\n",
        "        self.fc1 = nn.Linear(128 * 3 * 3, 128)\n",
        "\n",
        "         ## 實作練習 ##\n",
        "        self.fc2 = nn.Linear(128, 10)\n",
        "        self.relu = nn.ReLU()\n",
        "\n",
        "    def forward(self, x):\n",
        "\n",
        "        x = self.relu(self.conv1(x))\n",
        "        x = self.pool1(x)\n",
        "\n",
        "        x = self.relu(self.conv2(x))\n",
        "        x = self.pool2(x)\n",
        "\n",
        "        ## 實作練習 ##\n",
        "\n",
        "        # 可參考上方的第一層與第二層\n",
        "        x = ?\n",
        "        x = ?\n",
        "\n",
        "        ## 實作練習 ##\n",
        "\n",
        "        x = x.view(-1, 128 * 3 * 3) ## 實作練習 ##\n",
        "\n",
        "        x = self.relu(self.fc1(x))\n",
        "        x = self.fc2(x)\n",
        "        return x\n",
        "\n",
        "model = CNN()\n",
        "image, label = test_dataset[3]\n",
        "data = model(image) # 測試\n",
        "print(data.shape)\n",
        "### 實作練習"
      ]
    },
    {
      "cell_type": "markdown",
      "metadata": {
        "id": "Vf3CJCC5wnLw"
      },
      "source": [
        "### 訓練 & 測試"
      ]
    },
    {
      "cell_type": "code",
      "execution_count": null,
      "metadata": {
        "id": "soA74PScwik6"
      },
      "outputs": [],
      "source": [
        "# 創建模型實例\n",
        "model = CNN().to('cuda') # 放入 GPU 計算\n",
        "\n",
        "# 設置損失函數和優化器\n",
        "criterion = nn.CrossEntropyLoss()\n",
        "optimizer = optim.Adam(model.parameters(), lr=0.01)\n",
        "\n",
        "# 訓練模型\n",
        "num_epochs = 5\n",
        "for epoch in range(num_epochs):\n",
        "    model.train()\n",
        "    for i, (images, labels) in enumerate(train_loader):\n",
        "        optimizer.zero_grad()\n",
        "        images = images.to('cuda') # 放入 GPU 計算\n",
        "        labels = labels.to('cuda') # 放入 GPU 計算\n",
        "        outputs = model(images)\n",
        "        loss = criterion(outputs, labels)\n",
        "        loss.backward()\n",
        "        optimizer.step()\n",
        "\n",
        "        if (i + 1) % 100 == 0:\n",
        "            print(f'Epoch [{epoch + 1}/{num_epochs}], Step [{i + 1}/{len(train_loader)}], Loss: {loss.item():.4f}')\n",
        "\n",
        "# 測試模型\n",
        "model.eval()\n",
        "with torch.no_grad():\n",
        "    correct = 0\n",
        "    total = 0\n",
        "    for images, labels in test_loader:\n",
        "        images = images.to('cuda') # 放入 GPU 計算\n",
        "        labels = labels.to('cuda') # 放入 GPU 計算\n",
        "        outputs = model(images)\n",
        "        _, predicted = torch.max(outputs.data, 1)\n",
        "        total += labels.size(0)\n",
        "        correct += (predicted == labels).sum().item()\n",
        "\n",
        "    print(f'Test Accuracy: {100 * correct / total:.2f}%')"
      ]
    }
  ],
  "metadata": {
    "accelerator": "GPU",
    "colab": {
      "gpuType": "T4",
      "provenance": [],
      "collapsed_sections": [
        "AC7T_nr41bCy",
        "XZSJEmV3RKIx",
        "6r_Y1-J7uEMt",
        "TjW1hxRI9xgo",
        "YoyNLPfMHQXb",
        "M14dDhyIhLNE",
        "jiKadQ6PhRBn",
        "Mgzlgdylhd7V",
        "nbGNrmQpieNB",
        "rFBsqR-3XdoI",
        "LP-hQpSAXjqQ",
        "FdqDNyjT6FNm",
        "L67FJ6qiHs1Z",
        "-kM-IT1swX9G",
        "HThoNy43a4-y",
        "Vf3CJCC5wnLw"
      ]
    },
    "kernelspec": {
      "display_name": "Python 3",
      "name": "python3"
    },
    "language_info": {
      "name": "python"
    }
  },
  "nbformat": 4,
  "nbformat_minor": 0
}