{
  "nbformat": 4,
  "nbformat_minor": 0,
  "metadata": {
    "colab": {
      "provenance": [],
      "collapsed_sections": [
        "m8ezlwLNoPlX",
        "4INFmaq7WZ7g",
        "nda3hcAYVNKQ",
        "Upe8fR7BW1OO",
        "r_ohccgRZNQ2",
        "HsVQF16hZt07"
      ],
      "gpuType": "T4"
    },
    "kernelspec": {
      "name": "python3",
      "display_name": "Python 3"
    },
    "language_info": {
      "name": "python"
    },
    "accelerator": "GPU"
  },
  "cells": [
    {
      "cell_type": "markdown",
      "source": [
        "## 安裝套件與環境初始化"
      ],
      "metadata": {
        "id": "m8ezlwLNoPlX"
      }
    },
    {
      "cell_type": "code",
      "source": [
        "#@title 3.1 創建 Gradio\n",
        "\n",
        "def greet(name):\n",
        "    return \"Hello \" + name\n",
        "\n",
        "demo = gr.Interface(fn=greet, inputs=\"text\", outputs=\"text\")\n",
        "demo.launch()"
      ],
      "metadata": {
        "id": "uYEU3IdFXR4P"
      },
      "execution_count": null,
      "outputs": []
    },
    {
      "cell_type": "code",
      "source": [
        "#@title 3.2 為服務增添描述\n",
        "def greet(name):\n",
        "    return \"Hello \" + name\n",
        "\n",
        "textbox = gr.Textbox(label=\"打個招呼吧:\", placeholder=\"您的大名\", lines=2)\n",
        "gr.Interface(fn=greet, inputs=textbox, outputs=\"text\").launch()"
      ],
      "metadata": {
        "id": "eI8HvbzYXQBM"
      },
      "execution_count": null,
      "outputs": []
    },
    {
      "cell_type": "code",
      "source": [
        "#@title 3.3 創建機器人\n",
        "model = pipeline(\"text-generation\")\n",
        "\n",
        "def predict(prompt):\n",
        "    completion = model(prompt)[0][\"generated_text\"]\n",
        "    return completion\n",
        "\n",
        "result = predict(\"My favorite programming language is\")"
      ],
      "metadata": {
        "id": "77wzvy0zXn82"
      },
      "execution_count": null,
      "outputs": []
    },
    {
      "cell_type": "code",
      "source": [
        "# 輸出\n",
        "print(f'輸出：{result}')"
      ],
      "metadata": {
        "id": "4Bp7Di9hYZMm"
      },
      "execution_count": null,
      "outputs": []
    },
    {
      "cell_type": "code",
      "source": [
        "#@title 3.4 建立服務\n",
        "gr.Interface(fn=predict, inputs=\"text\", outputs=\"text\").launch()"
      ],
      "metadata": {
        "id": "O1IIQvcTXnpQ"
      },
      "execution_count": null,
      "outputs": []
    },
    {
      "cell_type": "code",
      "source": [
        "#@title 3.5 更多排版設定\n",
        "\n",
        "title = \"我是一隻鳥類機器人\"\n",
        "description = \"\"\"\n",
        "啾啾啾啾\n",
        "<img src=\"https://g.udn.com.tw/upfiles/B_KA/kaolinchan/PSN_PHOTO/826/f_27189826_1.JPG\" width=200px>\n",
        "\"\"\"\n",
        "\n",
        "article = \"快來跟我對話吧\"\n",
        "\n",
        "gr.Interface(\n",
        "    fn=predict,\n",
        "    inputs=\"textbox\",\n",
        "    outputs=\"text\",\n",
        "    title=title,\n",
        "    description=description,\n",
        "    article=article,\n",
        "    examples=[[\"餵我吃東西\"], [\"跟我講講話\"]],\n",
        ").launch()"
      ],
      "metadata": {
        "id": "VvwMO3fKYqc3"
      },
      "execution_count": null,
      "outputs": []
    }
  ]
}