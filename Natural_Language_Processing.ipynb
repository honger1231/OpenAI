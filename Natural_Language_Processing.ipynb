{
  "nbformat": 4,
  "nbformat_minor": 0,
  "metadata": {
    "colab": {
      "provenance": [],
      "collapsed_sections": [
        "V3dNwIngHbfv",
        "jEyiqGCQFdub",
        "XKUpskNyI-WS",
        "aX2CAoI0x_nv",
        "49iPrBWg6W02"
      ]
    },
    "kernelspec": {
      "name": "python3",
      "display_name": "Python 3"
    },
    "language_info": {
      "name": "python"
    }
  },
  "cells": [
    {
      "cell_type": "markdown",
      "source": [
        "## 環境初始化"
      ],
      "metadata": {
        "id": "V3dNwIngHbfv"
      }
    },
    {
      "cell_type": "code",
      "source": [
        "# 下載資料及與上課套件\n",
        "!git clone https://github.com/leeivan1007/NTU-PGPT-training-program.git\n",
        "!cp NTU-PGPT-training-program/NLP/* ."
      ],
      "metadata": {
        "id": "8PGGZfH0HXfu"
      },
      "execution_count": null,
      "outputs": []
    },
    {
      "cell_type": "code",
      "source": [
        "# torch\n",
        "import torch\n",
        "import torch.nn as nn\n",
        "import torch.optim as optim\n",
        "import torch.nn.functional as F\n",
        "from torch.utils.data import DataLoader, TensorDataset\n",
        "\n",
        "# scikit-learn\n",
        "from sklearn.metrics import mean_squared_error\n",
        "from sklearn.model_selection import train_test_split\n",
        "from sklearn.preprocessing import MinMaxScaler\n",
        "\n",
        "# 其他套件\n",
        "import numpy as np\n",
        "import matplotlib.pyplot as plt\n",
        "import pandas as pd"
      ],
      "metadata": {
        "id": "1qdg5RQVVJUM"
      },
      "execution_count": null,
      "outputs": []
    },
    {
      "cell_type": "markdown",
      "source": [
        "## 1. 記憶模塊介紹：RNN, LSTM, Transformer"
      ],
      "metadata": {
        "id": "jEyiqGCQFdub"
      }
    },
    {
      "cell_type": "code",
      "source": [
        "#@title 1.1 建立模型參數與測試資料\n",
        "\n",
        "# 網路設計\n",
        "input_dim = 8   # 輸入維度（資料的特徵數量）\n",
        "output_dim = 8  # 輸出維度\n",
        "\n",
        "# 測試資料\n",
        "batch_size = 16 # 16 筆資料\n",
        "seq_length = 7 # 7 天\n",
        "\n",
        "data_input = torch.rand(batch_size, seq_length, input_dim)\n",
        "\n",
        "print(f'資料維度：{data_input.shape}')"
      ],
      "metadata": {
        "id": "2M9QhMWAudo4",
        "cellView": "form"
      },
      "execution_count": null,
      "outputs": []
    },
    {
      "cell_type": "code",
      "source": [
        "#@title 1.2 RNN 模塊建立\n",
        "rnn = nn.RNN(input_dim, output_dim, batch_first=True)\n",
        "\n",
        "rnn_output, _ = rnn(data_input)\n",
        "print(f'輸出維度：{rnn_output.shape}')"
      ],
      "metadata": {
        "id": "Xe3_NUZbrydO",
        "cellView": "form"
      },
      "execution_count": null,
      "outputs": []
    },
    {
      "cell_type": "code",
      "source": [
        "#@title 1.3 LSTM 模塊建立\n",
        "lstm = nn.LSTM(input_dim, output_dim, batch_first=True)\n",
        "\n",
        "lstm_output, _ = lstm(data_input)\n",
        "print(f'輸出維度：{lstm_output.shape}')"
      ],
      "metadata": {
        "id": "sZfZkiAMsJZB",
        "cellView": "form"
      },
      "execution_count": null,
      "outputs": []
    },
    {
      "cell_type": "code",
      "source": [
        "#@title 1.4 Transformer 模塊建立\n",
        "\n",
        "num_heads = 8\n",
        "transformer = nn.TransformerEncoderLayer(d_model=input_dim, nhead=num_heads,batch_first=True)\n",
        "\n",
        "transformer_output = transformer(data_input)\n",
        "print(f'輸出維度：{transformer_output.shape}')"
      ],
      "metadata": {
        "id": "BO44drVhsu_W",
        "cellView": "form"
      },
      "execution_count": null,
      "outputs": []
    },
    {
      "cell_type": "markdown",
      "source": [
        "## 2. 股票的收盤價預測"
      ],
      "metadata": {
        "id": "XKUpskNyI-WS"
      }
    },
    {
      "cell_type": "code",
      "source": [
        "#@title 2.1 單筆測試1~7天的資料\n",
        "a_week = np.arange(1,8)\n",
        "\n",
        "print(a_week)"
      ],
      "metadata": {
        "id": "YKZBpdlKxM7u",
        "cellView": "form"
      },
      "execution_count": null,
      "outputs": []
    },
    {
      "cell_type": "code",
      "source": [
        "# 資料將往右邊推動\n",
        "print(a_week[0:-1])"
      ],
      "metadata": {
        "id": "-Lw_EhiPxMw2"
      },
      "execution_count": null,
      "outputs": []
    },
    {
      "cell_type": "code",
      "source": [
        "# 將被修改的資料\n",
        "print(a_week[1:])"
      ],
      "metadata": {
        "id": "H802nWdLxcG2"
      },
      "execution_count": null,
      "outputs": []
    },
    {
      "cell_type": "code",
      "source": [
        "# 新的擴增資料\n",
        "new_week = a_week.copy()\n",
        "print(new_week)"
      ],
      "metadata": {
        "id": "7h1TP2hxyAyC"
      },
      "execution_count": null,
      "outputs": []
    },
    {
      "cell_type": "code",
      "source": [
        "# 修改後的資料\n",
        "new_week[1:] = a_week[:-1]\n",
        "print(new_week)"
      ],
      "metadata": {
        "id": "YV9bmYx_xjpp"
      },
      "execution_count": null,
      "outputs": []
    },
    {
      "cell_type": "code",
      "source": [
        "# 沒有推到的地方補0\n",
        "new_week[:1] = 0\n",
        "print(new_week)"
      ],
      "metadata": {
        "id": "qM84CTLYyIh8"
      },
      "execution_count": null,
      "outputs": []
    },
    {
      "cell_type": "code",
      "source": [
        "# 擴增資料後的結果\n",
        "print(f'原始的資料:{a_week}')\n",
        "print(f'偏移的資料:{new_week}')"
      ],
      "metadata": {
        "id": "U9P_7_HByPsV"
      },
      "execution_count": null,
      "outputs": []
    },
    {
      "cell_type": "code",
      "source": [
        "#@title 2.2 使用迴圈做資料擴增 (時間軸)\n",
        "window_size = 3\n",
        "\n",
        "a_week = np.expand_dims(a_week, axis=0)\n",
        "a_week = np.tile(a_week, (window_size, 1))\n",
        "\n",
        "for window in range(window_size):\n",
        "\n",
        "  if window != 0:\n",
        "    a_week[window, window:] = a_week[window, :-window]\n",
        "    a_week[window, :window] = 0\n",
        "\n",
        "print(a_week)"
      ],
      "metadata": {
        "id": "DrjKxom04AhT",
        "cellView": "form"
      },
      "execution_count": null,
      "outputs": []
    },
    {
      "cell_type": "code",
      "source": [
        "#@title 2.3 資料擴增模組化\n",
        "def expand_window(dataset, window_size):\n",
        "\n",
        "  dataset = np.expand_dims(dataset, axis=1)\n",
        "  dataset = np.tile(dataset, (1, window_size, 1))\n",
        "\n",
        "  for window in range(window_size):\n",
        "\n",
        "    if window != 0:\n",
        "      dataset[window:, window, :] = dataset[:-window, window, :]\n",
        "      dataset[:window, window, :] = 0\n",
        "\n",
        "  return dataset"
      ],
      "metadata": {
        "cellView": "form",
        "id": "a9ZatjVryvZK"
      },
      "execution_count": null,
      "outputs": []
    },
    {
      "cell_type": "code",
      "source": [
        "#@title 2.4 資料載入與前處理\n",
        "data = pd.read_csv('20230817_0050.csv', index_col=0)\n",
        "\n",
        "data.loc[:3]"
      ],
      "metadata": {
        "id": "NQ0hlGL7UO0Q",
        "cellView": "form"
      },
      "execution_count": null,
      "outputs": []
    },
    {
      "cell_type": "code",
      "source": [
        "#@title 2.5 時間資料處理\n",
        "# 加上 小時:分鐘:秒數\n",
        "data['date'] = pd.to_datetime(data['date'])\n",
        "data.loc[0]"
      ],
      "metadata": {
        "cellView": "form",
        "id": "jud-d9l-ifEB"
      },
      "execution_count": null,
      "outputs": []
    },
    {
      "cell_type": "code",
      "source": [
        "#@title 2.5.1 新增時間戳\n",
        "data['timestamp'] = data['date'].apply(lambda x: x.timestamp())\n",
        "\n",
        "# 原本的日期拿掉\n",
        "X = data.drop(['date'], axis=1)"
      ],
      "metadata": {
        "cellView": "form",
        "id": "yujt3iHgiMpg"
      },
      "execution_count": null,
      "outputs": []
    },
    {
      "cell_type": "code",
      "source": [
        "#@title 2.5.2 設定預測值 (標籤)\n",
        "# 收盤價格做預測的值\n",
        "y = data['close']\n",
        "\n",
        "n_features = X.shape[1]"
      ],
      "metadata": {
        "cellView": "form",
        "id": "qpqfg0njjIOD"
      },
      "execution_count": null,
      "outputs": []
    },
    {
      "cell_type": "code",
      "source": [
        "#@title 2.6 特徵正規化 (Feature Normalization)\n",
        "scaler = MinMaxScaler()\n",
        "X_scaled = scaler.fit_transform(X)\n",
        "y_scaled = scaler.fit_transform(y.values.reshape(-1, 1))\n",
        "\n",
        "y_scaled[1:] = y_scaled[:-1] # 收盤價\n",
        "y_scaled[0] = 0\n",
        "\n",
        "# 資料切割 -> 分為訓練與測試資料集\n",
        "X_train, X_test, y_train, y_test = train_test_split(X_scaled, y_scaled, test_size=0.2, shuffle=False, random_state=42)"
      ],
      "metadata": {
        "id": "SGWdAMoPUlzo",
        "cellView": "form"
      },
      "execution_count": null,
      "outputs": []
    },
    {
      "cell_type": "code",
      "source": [
        "#@title 2.7 資料天數擴增(時間軸)\n",
        "window_size = 7\n",
        "\n",
        "X_train = expand_window(X_train, window_size)\n",
        "X_test = expand_window(X_test, window_size)\n",
        "\n",
        "# 時間排序顛倒\n",
        "X_train = X_train[:,::-1,:].copy()\n",
        "X_test = X_test[:,::-1,:].copy()"
      ],
      "metadata": {
        "cellView": "form",
        "id": "I-T2_PXX0rVe"
      },
      "execution_count": null,
      "outputs": []
    },
    {
      "cell_type": "code",
      "source": [
        "#@title 2.8 numpy -> torch\n",
        "\n",
        "X_train_tensor = torch.tensor(X_train, dtype=torch.float32)\n",
        "y_train_tensor = torch.tensor(y_train, dtype=torch.float32)\n",
        "X_test_tensor = torch.tensor(X_test, dtype=torch.float32)\n",
        "y_test_tensor = torch.tensor(y_test, dtype=torch.float32)"
      ],
      "metadata": {
        "id": "ugw4HFQCv-t6",
        "cellView": "form"
      },
      "execution_count": null,
      "outputs": []
    },
    {
      "cell_type": "code",
      "source": [
        "#@title 2.9 創建資料集與迭代器\n",
        "# 創建 Dataset\n",
        "train_dataset = TensorDataset(X_train_tensor, y_train_tensor)\n",
        "test_dataset = TensorDataset(X_test_tensor, y_test_tensor)\n",
        "\n",
        "# 創建 DataLoader\n",
        "train_loader = DataLoader(train_dataset, batch_size=128, shuffle=True)\n",
        "test_loader = DataLoader(test_dataset, batch_size=128, shuffle=False)"
      ],
      "metadata": {
        "cellView": "form",
        "id": "e0YUqnJn2YWI"
      },
      "execution_count": null,
      "outputs": []
    },
    {
      "cell_type": "code",
      "source": [
        "#@title 2.10 建立模型\n",
        "# 超參數設置\n",
        "\n",
        "# 定義模型\n",
        "class StockModel(nn.Module):\n",
        "    def __init__(self):\n",
        "        super(StockModel, self).__init__()\n",
        "\n",
        "        self.memory_1 = nn.RNN(10, 128, batch_first=True)\n",
        "        self.memory_2 = nn.RNN(128, 256, batch_first=True)\n",
        "        self.memory_3 = nn.RNN(256, 256, batch_first=True)\n",
        "        self.dropout = nn.Dropout(0.2)\n",
        "        self.fc = nn.Linear(256, 1)\n",
        "\n",
        "    def forward(self, x):\n",
        "\n",
        "        x, _ = self.memory_1(x)\n",
        "        x, _ = self.memory_2(x)\n",
        "        x, _ = self.memory_3(x)\n",
        "        x = self.dropout(x)\n",
        "\n",
        "        x = x[:, -1, :] # 取最後一個時間\n",
        "        x = self.fc(x)\n",
        "        return x\n",
        "\n",
        "model = StockModel()\n",
        "\n",
        "batch_size = 32\n",
        "test_data = torch.randn((batch_size, window_size, n_features))\n",
        "test_output = model(test_data)\n",
        "print(f'測試一筆隨機資料：{test_output.shape}')"
      ],
      "metadata": {
        "id": "MZxYvbsAwCV5",
        "cellView": "form"
      },
      "execution_count": null,
      "outputs": []
    },
    {
      "cell_type": "code",
      "source": [
        "#@title 2.11 定義超參數、損失函數和優化器\n",
        "epochs = 15\n",
        "learn_rate = 0.001\n",
        "criterion = nn.MSELoss()\n",
        "optimizer = optim.Adam(model.parameters(), lr=learn_rate)"
      ],
      "metadata": {
        "cellView": "form",
        "id": "hqEaiRqkx8Cm"
      },
      "execution_count": null,
      "outputs": []
    },
    {
      "cell_type": "code",
      "source": [
        "#@title 2.12 訓練模型\n",
        "model.train()\n",
        "for epoch in range(epochs):\n",
        "    for X_batch, y_batch in train_loader:\n",
        "        optimizer.zero_grad()\n",
        "        outputs = model(X_batch)\n",
        "        loss = criterion(outputs, y_batch)\n",
        "        loss.backward()\n",
        "        optimizer.step()\n",
        "    print(f\"Epoch {epoch+1}/{epochs}, Loss: {loss.item():.6f}\")\n",
        "\n",
        "# 評估模型\n",
        "model.eval()\n",
        "all_preds = []\n",
        "all_targets = []\n",
        "with torch.no_grad():\n",
        "    for X_batch, y_batch in test_loader:\n",
        "        outputs = model(X_batch)\n",
        "        all_preds.append(outputs.numpy())\n",
        "        all_targets.append(y_batch.numpy())\n",
        "\n",
        "y_pred_scaled = np.concatenate(all_preds, axis=0)\n",
        "y_test_original = np.concatenate(all_targets, axis=0)\n",
        "\n",
        "y_pred = scaler.inverse_transform(y_pred_scaled)\n",
        "y_test_original = scaler.inverse_transform(y_test_original)\n",
        "\n",
        "mse = mean_squared_error(y_test_original, y_pred)\n",
        "print(f\"Mean Squared Error: {mse:.6f}\")"
      ],
      "metadata": {
        "cellView": "form",
        "id": "5zsxdM1PHEt2"
      },
      "execution_count": null,
      "outputs": []
    },
    {
      "cell_type": "code",
      "source": [
        "#@title 2.13 資料視覺化\n",
        "plt.figure(figsize=(10, 6))\n",
        "plt.plot(y_test_original, label='Original', color='blue', linestyle='-')\n",
        "plt.plot(y_pred, label='Prediction', color='red', linestyle='--')\n",
        "\n",
        "plt.title('Original vs Prediction')\n",
        "plt.xlabel('Index')\n",
        "plt.ylabel('Values')\n",
        "plt.legend()\n",
        "\n",
        "plt.show()"
      ],
      "metadata": {
        "id": "t3SWY3wiRziH"
      },
      "execution_count": null,
      "outputs": []
    },
    {
      "cell_type": "markdown",
      "source": [
        "## 隨堂練習"
      ],
      "metadata": {
        "id": "aX2CAoI0x_nv"
      }
    },
    {
      "cell_type": "code",
      "source": [
        "#@title 練習 1：新增股市的特徵資料\n",
        "### 老闆想新增一筆資料為，最高價(highprice)與最低價(lowprice)的平均數 -> 相加除2\n",
        "### 請試著使用資料操作的方式，取得這個數字，並加回到原本的表格中，新增一個欄位為 average_price\n",
        "### 參考：（2.5.1 新增時間戳）\n",
        "\n",
        "data = pd.read_csv('20230817_0050.csv', index_col=0)\n",
        "\n",
        "### 實作練習 ###\n",
        "\n",
        "?\n",
        "\n",
        "### 實作練習 ###\n",
        "\n",
        "\n",
        "print(data.loc[:2, 'average_price'])\n",
        "### 實作結果\n",
        "# 0    56.350\n",
        "# 1    56.525\n",
        "# 2    57.125\n",
        "# Name: average_price, dtype: float64"
      ],
      "metadata": {
        "cellView": "form",
        "id": "ldthFr9OlZrs"
      },
      "execution_count": null,
      "outputs": []
    },
    {
      "cell_type": "code",
      "source": [
        "#@title 練習 2：Windos size 手動切割\n",
        "### 現在有一筆資料，為店面的(7/1~7/10)的營運獲利\n",
        "### 假設目前已有一個訓練好的模型，處理windos size為 3 的資料\n",
        "### 請在預測這筆資料前，先對這筆資料做切割。\n",
        "### 參考：（2.1 單筆測試 1~7天的資料）\n",
        "\n",
        "#                  共 15 天的連續資料，單位為(萬元)\n",
        "profit = np.array([5.3, 11.0, 7.8, 9.1, 3.2, 7.7, 1.8, 5.3, 2.3, 7.3])\n",
        "\n",
        "profit_1 = profit.copy()\n",
        "profit_2 = profit.copy()\n",
        "\n",
        "### 實作練習 ###\n",
        "\n",
        "### 不用寫邏輯操作\n",
        "### 直接手動切割\n",
        "\n",
        "\n",
        "\n",
        "### 實作練習 ###\n",
        "\n",
        "print(f'第一維資料：{profit}')\n",
        "print(f'第二維資料：{profit_1}')\n",
        "print(f'第三維資料：{profit_2}')\n",
        "\n",
        "### 實作結果\n",
        "# 第一維資料：[ 5.3 11.   7.8  9.1  3.2  7.7  1.8  5.3  2.3  7.3]\n",
        "# 第二維資料：[ 0.   5.3 11.   7.8  9.1  3.2  7.7  1.8  5.3  2.3]\n",
        "# 第三維資料：[ 0.   0.   5.3 11.   7.8  9.1  3.2  7.7  1.8  5.3]"
      ],
      "metadata": {
        "cellView": "form",
        "id": "-ARSifpGgQ3T"
      },
      "execution_count": null,
      "outputs": []
    },
    {
      "cell_type": "code",
      "source": [
        "#@title 練習 3.1 ：收盤價預測優化 -> [文件](https://pytorch.org/docs/stable/generated/torch.nn.LSTM.html)\n",
        "### 情境：對於股票收盤價的預測，老闆希望模型的效果更好\n",
        "### 試著改為 LSTM，以及加入 bidirectional\n",
        "\n",
        "# 定義模型\n",
        "class StockModel(nn.Module):\n",
        "    def __init__(self):\n",
        "        super(StockModel, self).__init__()\n",
        "\n",
        "        ### 實作練習 ###\n",
        "\n",
        "        # 參數修改 ⭣\n",
        "        self.memory_1 = nn.LSTM(10, 128, batch_first=True)\n",
        "\n",
        "        # 參數修改 ⭣\n",
        "        self.memory_2 = nn.LSTM(128, 256, batch_first=True)\n",
        "\n",
        "        # 參數修改 ⭣\n",
        "        self.memory_3 = nn.LSTM(256, 256, batch_first=True)\n",
        "\n",
        "        self.dropout = nn.Dropout(0.2)\n",
        "\n",
        "        # 參數修改 ⭣\n",
        "        self.fc = nn.Linear(256, 1)\n",
        "\n",
        "        ### 實作練習 ###\n",
        "\n",
        "    def forward(self, x):\n",
        "\n",
        "        x, _ = self.memory_1(x)\n",
        "        x, _ = self.memory_2(x)\n",
        "        x, _ = self.memory_3(x)\n",
        "        x = self.dropout(x)\n",
        "\n",
        "        x = x[:, -1, :] # 取最後一個時間\n",
        "        x = self.fc(x)\n",
        "        return x\n",
        "\n",
        "model = StockModel()\n",
        "\n",
        "test_data = torch.randn((10, 1, 10))\n",
        "test_output = model(test_data)\n",
        "print(f'測試一筆隨機資料：{test_output.shape}')\n",
        "\n",
        "### 實作結果\n",
        "# 測試一筆隨機資料：torch.Size([10, 1])"
      ],
      "metadata": {
        "id": "4wPnlCTFyBjt",
        "cellView": "form"
      },
      "execution_count": null,
      "outputs": []
    },
    {
      "cell_type": "code",
      "source": [
        "#@title 練習 3.2：訓練模型\n",
        "\n",
        "epochs = 15\n",
        "criterion = nn.MSELoss()\n",
        "optimizer = optim.Adam(model.parameters(), lr=0.001)\n",
        "\n",
        "model.train()\n",
        "for epoch in range(epochs):\n",
        "    for X_batch, y_batch in train_loader:\n",
        "        optimizer.zero_grad()\n",
        "        outputs = model(X_batch)\n",
        "        loss = criterion(outputs, y_batch)\n",
        "        loss.backward()\n",
        "        optimizer.step()\n",
        "    print(f\"Epoch {epoch+1}/{epochs}, Loss: {loss.item():.6f}\")\n",
        "\n",
        "# 評估模型\n",
        "model.eval()\n",
        "all_preds = []\n",
        "all_targets = []\n",
        "with torch.no_grad():\n",
        "    for X_batch, y_batch in test_loader:\n",
        "        outputs = model(X_batch)\n",
        "        all_preds.append(outputs.numpy())\n",
        "        all_targets.append(y_batch.numpy())\n",
        "\n",
        "y_pred_scaled = np.concatenate(all_preds, axis=0)\n",
        "y_test_original = np.concatenate(all_targets, axis=0)\n",
        "\n",
        "y_pred = scaler.inverse_transform(y_pred_scaled)\n",
        "y_test_original = scaler.inverse_transform(y_test_original)\n",
        "\n",
        "mse = mean_squared_error(y_test_original, y_pred)\n",
        "print(f\"Mean Squared Error: {mse:.6f}\")"
      ],
      "metadata": {
        "id": "fAAOC20WyPjn",
        "cellView": "form"
      },
      "execution_count": null,
      "outputs": []
    },
    {
      "cell_type": "code",
      "source": [
        "#@title 練習 3.3：資料視覺化\n",
        "plt.figure(figsize=(10, 6))\n",
        "plt.plot(y_test_original, label='Original', color='blue', linestyle='-')\n",
        "plt.plot(y_pred, label='Prediction', color='red', linestyle='--')\n",
        "\n",
        "plt.title('Original vs Prediction')\n",
        "plt.xlabel('Index')\n",
        "plt.ylabel('Values')\n",
        "plt.legend()\n",
        "\n",
        "plt.show()"
      ],
      "metadata": {
        "cellView": "form",
        "id": "61d0pioIyRhg"
      },
      "execution_count": null,
      "outputs": []
    },
    {
      "cell_type": "markdown",
      "source": [
        "## 補充：爬取股票套件 (twstock)"
      ],
      "metadata": {
        "id": "49iPrBWg6W02"
      }
    },
    {
      "cell_type": "code",
      "source": [
        "#@title 安裝套件 專案資訊 -> [網址](https://twstock.readthedocs.io/zh-tw/latest/)\n",
        "!pip install twstock\n",
        "\n",
        "import twstock"
      ],
      "metadata": {
        "id": "t5pVrXvM6d07",
        "cellView": "form"
      },
      "execution_count": null,
      "outputs": []
    },
    {
      "cell_type": "code",
      "source": [
        "# 設定股票號碼\n",
        "stock = twstock.Stock(\"1301\")\n",
        "\n",
        "#設定時間\n",
        "stocklist = stock.fetch(2024, 0)"
      ],
      "metadata": {
        "id": "9wjZsqKECgko"
      },
      "execution_count": null,
      "outputs": []
    },
    {
      "cell_type": "code",
      "source": [
        "# 觀察資料\n",
        "stocklist[0]"
      ],
      "metadata": {
        "id": "UIRW2avECmQN"
      },
      "execution_count": null,
      "outputs": []
    },
    {
      "cell_type": "code",
      "source": [
        "# 迴圈拉出一個月的資料\n",
        "for stock in stocklist:\n",
        "  strdate = stock.date.strftime(\"%Y-%m-%d\")\n",
        "\n",
        "  #    [\"日期\",  \"成交股數\",      \"成交金額\",       \"開盤價\",    \"最高價\",    \"最低價\",   \"收盤價\",     \"漲跌價差\",    \"成交筆數\"]\n",
        "  li = [strdate, stock.capacity, stock.turnover, stock.open, stock.high, stock.low, stock.close, stock.change, stock.transaction]\n",
        "\n",
        "print(f'總共爬到的資料天數：{len(stocklist)}')\n",
        "print(f'最後一天的資料：{li}')"
      ],
      "metadata": {
        "id": "s0FOQb57i9YT"
      },
      "execution_count": null,
      "outputs": []
    },
    {
      "cell_type": "code",
      "source": [
        "#@title 設定路徑與超參數\n",
        "import csv\n",
        "import twstock\n",
        "import os\n",
        "\n",
        "filepath = \"stock2024.csv\"\n",
        "month_length = 4"
      ],
      "metadata": {
        "id": "1WC8HPg6gZbr",
        "cellView": "form"
      },
      "execution_count": null,
      "outputs": []
    },
    {
      "cell_type": "code",
      "source": [
        "#@title 使用迴圈，把多個月份資料存放到 data\n",
        "data = []\n",
        "\n",
        "for i in range(1, month_length):\n",
        "    stock = twstock.Stock(\"1301\")\n",
        "    stocklist = stock.fetch(2024, i)\n",
        "\n",
        "    for stock in stocklist:\n",
        "        strdate = stock.date.strftime(\"%Y-%m-%d\")\n",
        "        li = [strdate, stock.capacity, stock.turnover, stock.open, stock.high, stock.low, stock.close, stock.change, stock.transaction]\n",
        "        data.append(li)"
      ],
      "metadata": {
        "id": "YNR-3v7s6Epv",
        "cellView": "form"
      },
      "execution_count": null,
      "outputs": []
    },
    {
      "cell_type": "code",
      "source": [
        "#@title 資料儲存\n",
        "outputfile = open(filepath, \"w\", newline = \"\", encoding = \"big5\")\n",
        "outputwriter = csv.writer(outputfile)\n",
        "\n",
        "# 先撰寫標題\n",
        "title = [\"Date\", \"Volume\", \"Transaction Amount\", \"Opening Price\", \"Highest Price\", \"Lowest Price\", \"Closing Price\", \"Price Change\", \"Number of Transactions\"]\n",
        "outputwriter.writerow(title)\n",
        "\n",
        "for dataline in (data):\n",
        "    outputwriter.writerow(dataline)\n",
        "outputfile.close()"
      ],
      "metadata": {
        "id": "FdsgAwnm6AGy"
      },
      "execution_count": null,
      "outputs": []
    }
  ]
}