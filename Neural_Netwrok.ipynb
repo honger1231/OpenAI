{
  "nbformat": 4,
  "nbformat_minor": 0,
  "metadata": {
    "colab": {
      "provenance": [],
      "collapsed_sections": [
        "60DJdPTFxC0M",
        "lrEEpakVeUjG",
        "IBh7-2DAQZt5",
        "U9__3tu0QhAd",
        "yG3GX7fmjG48",
        "yy1EFEyTRrbQ",
        "krhhGLaX4BXM",
        "oHLMymAQMlIN",
        "w5vtQFfioW-J",
        "JBkrQj0Fp0bZ",
        "T0B_NQQr-n6N",
        "mraIeh0NYm-c",
        "vd2lbf929uBv",
        "7uGc4zDl0AuY",
        "yRFtYHkMxZt-",
        "TWVmDJMSylMK",
        "-DPAa9wA07My",
        "eFBC9r5R2W7n",
        "6lvW3_f_2iB2",
        "q91b6MJ83MP1",
        "vqddzbgvp_ey",
        "pEkwk3wdA-Ao",
        "L-zthIEK3cXs",
        "mEDaNawz5ihY",
        "WGDBfnk-N1AA",
        "1hn26-PhS90L",
        "4UT4FLHNYHJU",
        "W9HUlONOgMKG"
      ]
    },
    "kernelspec": {
      "name": "python3",
      "display_name": "Python 3"
    },
    "language_info": {
      "name": "python"
    }
  },
  "cells": [
    {
      "cell_type": "markdown",
      "source": [
        "## 環境初始化"
      ],
      "metadata": {
        "id": "60DJdPTFxC0M"
      }
    },
    {
      "cell_type": "code",
      "source": [
        "# 資料處理套件\n",
        "import pandas as pd\n",
        "\n",
        "# 高效能數學計算套\n",
        "import numpy as np\n",
        "\n",
        "# 資料視覺化套件\n",
        "import matplotlib.pyplot as plt"
      ],
      "metadata": {
        "id": "L-q7Y-SmxQGf"
      },
      "execution_count": null,
      "outputs": []
    },
    {
      "cell_type": "code",
      "source": [
        "# 下載資料及與上課套件\n",
        "!git clone https://github.com/leeivan1007/NTU-PGPT-training-program.git\n",
        "!cp NTU-PGPT-training-program/NN/* .\n",
        "\n",
        "from units import get_cats_image\n",
        "import cv2"
      ],
      "metadata": {
        "id": "HVBnLAne23fk"
      },
      "execution_count": null,
      "outputs": []
    },
    {
      "cell_type": "markdown",
      "source": [
        "## 1. Numpy 教學\n",
        "\n"
      ],
      "metadata": {
        "id": "lrEEpakVeUjG"
      }
    },
    {
      "cell_type": "markdown",
      "source": [
        "### 關於資料的，詞彙說明\n",
        "\n",
        "1. 純量：0 階資料，表示單一數值，計算機使用的維度。\n",
        "2. 向量：1 階資料，表示1維數據，如聲音、文字皆為1為數據。\n",
        "3. 矩陣：2 階資料，表示2維數據，財報&月份的圖圖表。\n",
        "4. 張量：3 階或以上資料，如圖片為3維度資料。"
      ],
      "metadata": {
        "id": "dfS3PUIEd2ce"
      }
    },
    {
      "cell_type": "code",
      "source": [
        "# 0 維資料 純量(Scalar)\n",
        "# data = n\n",
        "scalar = np.array(7)\n",
        "print(f'純量 資料階數：{scalar.ndim}')"
      ],
      "metadata": {
        "id": "a_ZKpus2fx3N"
      },
      "execution_count": null,
      "outputs": []
    },
    {
      "cell_type": "code",
      "source": [
        "# 純量相加\n",
        "s_1 = np.array(12)\n",
        "s_2 = np.array(7)\n",
        "print(s_1 + s_2)"
      ],
      "metadata": {
        "id": "eRixJRUZhVGF"
      },
      "execution_count": null,
      "outputs": []
    },
    {
      "cell_type": "code",
      "source": [
        "# 純量相乘\n",
        "s_3 = np.array(55)\n",
        "s_4 = np.array(2)\n",
        "print(s_3 * s_4)"
      ],
      "metadata": {
        "id": "S9AFsQfbGDnn"
      },
      "execution_count": null,
      "outputs": []
    },
    {
      "cell_type": "code",
      "source": [
        "# 1 維資料 向量(Vector)\n",
        "# data = [ n, n ]\n",
        "\n",
        "vector = np.array([7, 4])\n",
        "print(f'向量 資料階數：{vector.ndim}')"
      ],
      "metadata": {
        "id": "ng4MIJ7Zhtwe"
      },
      "execution_count": null,
      "outputs": []
    },
    {
      "cell_type": "code",
      "source": [
        "# 向量相加\n",
        "v_1 = np.array([1, 4, 5, 12, -3])\n",
        "print(f'向量 1：{v_1}')\n",
        "\n",
        "v_2 = np.arange(5)\n",
        "print(f'向量 2：{v_2}')\n",
        "\n",
        "# 維度一樣，向量可直接加減乘除\n",
        "result = v_1 + v_2\n",
        "print(f'向量 總和：{result}')"
      ],
      "metadata": {
        "id": "dYLpvssegBG2"
      },
      "execution_count": null,
      "outputs": []
    },
    {
      "cell_type": "code",
      "source": [
        "# 文字訊息\n",
        "text_data = np.array([7592, 1010, 1045, 2572, 6159]) # \"Hello, I am Wayne\"\n",
        "print(text_data)"
      ],
      "metadata": {
        "id": "vUiq2JrKoqlC"
      },
      "execution_count": null,
      "outputs": []
    },
    {
      "cell_type": "markdown",
      "source": [
        "| Hello | , | I | am | Wayne |\n",
        "|:-----:|:--:|:-:|:--:|:-----:|\n",
        "| 7592  |1010|1045|2572| 6159 |\n"
      ],
      "metadata": {
        "id": "hazrigEFvZh7"
      }
    },
    {
      "cell_type": "code",
      "source": [
        "# 2 維度資料 矩陣(Matrix)\n",
        "# data = [[ n, n ],\n",
        "#         [ n, n ]]\n",
        "matrix = np.array([[7, 4],[1, 4]])\n",
        "print(f'矩陣 資料階數：{matrix.ndim}')"
      ],
      "metadata": {
        "id": "BQfL3yz6gKC6"
      },
      "execution_count": null,
      "outputs": []
    },
    {
      "cell_type": "markdown",
      "source": [
        "|    Category   | January | February |  March  | April  |   May   |  June  |\n",
        "|:-------------:|:-------:|:--------:|:-------:|:------:|:-------:|:------:|\n",
        "|     Revenue     |  80902  |   75193  |  58681  | 84437  |  91138  | 55607  |\n",
        "|  Store Costs  |  48033  |   21182  |  38496  | 40789  |  46733  | 43351  |\n",
        "|  Labor Costs  |  39160  |   12392  |  48639  | 49537  |  42860  | 25015  |\n"
      ],
      "metadata": {
        "id": "8jCNE1l4u8PG"
      }
    },
    {
      "cell_type": "code",
      "source": [
        "# 3 維度資料 張量(Tensor)\n",
        "# data = [[[ n , n ] , [ n , n ]] , [[ n , n ] , [ n , n ]]]\n",
        "tensor = np.array([[[7, 4],[1, 4]], [[9, 7], [6, 4]]])\n",
        "print(f'張量 資料階數：{tensor.ndim}')"
      ],
      "metadata": {
        "id": "lfpuez1xgbJ1"
      },
      "execution_count": null,
      "outputs": []
    },
    {
      "cell_type": "markdown",
      "source": [
        "## 2. 3維資料"
      ],
      "metadata": {
        "id": "IBh7-2DAQZt5"
      }
    },
    {
      "cell_type": "markdown",
      "source": [
        "1. RGB影像 (寬, 高, RGB)\n",
        "\n",
        "![貓咪照片](https://upload.wikimedia.org/wikipedia/commons/thumb/2/2d/Mystica_from_British_Empire_Cattery.jpg/200px-Mystica_from_British_Empire_Cattery.jpg)\n",
        "\n",
        "2. 深度影像 (寬, 高, RGBD) D -> Depth\n",
        "\n",
        "![深度影像](https://rgbd-dataset.cs.washington.edu/imgs/rgbd.png)\n",
        "\n",
        "3. 深度相機\n",
        "\n",
        "![深度相機](https://www.intel.com.tw/content/dam/www/central-libraries/us/en/images/d455.png.rendition.intel.web.576.324.png)"
      ],
      "metadata": {
        "id": "lDmHfiXrcrKl"
      }
    },
    {
      "cell_type": "markdown",
      "source": [
        "## 3. 圖片操作"
      ],
      "metadata": {
        "id": "U9__3tu0QhAd"
      }
    },
    {
      "cell_type": "code",
      "source": [
        "# 取得貓咪們的照片\n",
        "img_array = get_cats_image()\n",
        "print(f'圖片的資料為度：{img_array.shape}')"
      ],
      "metadata": {
        "id": "AmNfcnDs-XY5"
      },
      "execution_count": null,
      "outputs": []
    },
    {
      "cell_type": "code",
      "source": [
        "# 顯示圖片\n",
        "plt.imshow(img_array)"
      ],
      "metadata": {
        "id": "t0gwB4P9B5wR"
      },
      "execution_count": null,
      "outputs": []
    },
    {
      "cell_type": "code",
      "source": [
        "# 從 row, column 切圖塊的範圍\n",
        "plt.imshow(img_array[0:120,0:120]) # row 0~120 | column 0~120"
      ],
      "metadata": {
        "id": "eVT1sGm0-sd4"
      },
      "execution_count": null,
      "outputs": []
    },
    {
      "cell_type": "code",
      "source": [
        "# 閾值處理，超過128為255，不超過則為0\n",
        "gray_img = cv2.cvtColor(img_array, cv2.COLOR_BGR2GRAY) # 轉灰階\n",
        "gray_img = np.where(gray_img > 128, 255, 0)\n",
        "plt.imshow(gray_img, cmap='gray')"
      ],
      "metadata": {
        "id": "EYN9ndEWAHaB"
      },
      "execution_count": null,
      "outputs": []
    },
    {
      "cell_type": "code",
      "source": [
        "# 高斯模糊法\n",
        "blurred_img = cv2.GaussianBlur(img_array, (15, 15), 0)\n",
        "plt.imshow(blurred_img)"
      ],
      "metadata": {
        "id": "E03dITaNCq0q"
      },
      "execution_count": null,
      "outputs": []
    },
    {
      "cell_type": "code",
      "source": [
        "# 邊緣偵測方法\n",
        "gray_img = cv2.cvtColor(img_array, cv2.COLOR_BGR2GRAY)\n",
        "edges = cv2.Canny(gray_img, 100, 200)\n",
        "\n",
        "plt.imshow(edges, cmap='gray')"
      ],
      "metadata": {
        "id": "Ybh71EW6CfxM"
      },
      "execution_count": null,
      "outputs": []
    },
    {
      "cell_type": "code",
      "source": [
        "# 亮度調整\n",
        "brightness = 100\n",
        "\n",
        "img = np.uint16(img_array)\n",
        "img = img + brightness\n",
        "bright_img = np.clip(img, 0, 255)\n",
        "\n",
        "plt.imshow(bright_img)"
      ],
      "metadata": {
        "id": "vdvpQgkXC3Wq"
      },
      "execution_count": null,
      "outputs": []
    },
    {
      "cell_type": "markdown",
      "source": [
        "## 4. 溢出 (Overflow)"
      ],
      "metadata": {
        "id": "yG3GX7fmjG48"
      }
    },
    {
      "cell_type": "code",
      "source": [
        "# 正常資料\n",
        "uint8_data = np.array([250, 255, 5], dtype=np.uint8)\n",
        "\n",
        "print(\"uint8 資料：\")\n",
        "print(uint8_data)"
      ],
      "metadata": {
        "id": "YJqSO49DHHGP"
      },
      "execution_count": null,
      "outputs": []
    },
    {
      "cell_type": "code",
      "source": [
        "# 加 5 發生溢位\n",
        "overflow_add = uint8_data + np.array([5, 5, 5], dtype=np.uint8)\n",
        "\n",
        "print(\"+5 後 資料：\")\n",
        "print(overflow_add)"
      ],
      "metadata": {
        "id": "We3pkJoaRgSX"
      },
      "execution_count": null,
      "outputs": []
    },
    {
      "cell_type": "markdown",
      "source": [
        "### uint8 範圍\n",
        "\n"
      ],
      "metadata": {
        "id": "yy1EFEyTRrbQ"
      }
    },
    {
      "cell_type": "markdown",
      "source": [
        "#### 十進制 vs 二進制\n",
        "| 十進制 (Decimal) | 二進制 (Binary)  |\n",
        "|-----------------|------------------|\n",
        "| 0               | 0000 0000        |\n",
        "| 1               | 0000 0001        |\n",
        "| 8               | 0000 1000        |\n",
        "| 128             | 1000 0000        |\n",
        "| 255             | 1111 1111        |"
      ],
      "metadata": {
        "id": "s9I_TxeCjbX0"
      }
    },
    {
      "cell_type": "code",
      "source": [
        "#   1111 1111\n",
        "#   0000 0101\n",
        "# 1 0000 0100 <- overflow"
      ],
      "metadata": {
        "id": "Dwvndut1U4Jn"
      },
      "execution_count": null,
      "outputs": []
    },
    {
      "cell_type": "markdown",
      "source": [
        "## 隨堂練習 A"
      ],
      "metadata": {
        "id": "krhhGLaX4BXM"
      }
    },
    {
      "cell_type": "code",
      "source": [
        "#@title 練習 1：Numpy 加法器\n",
        "### 練習：做一個整數(int)的減法器\n",
        "# (1). 請使用 numpy 的數字資料，來做相減\n",
        "# (2). 單純的數字加減，可用純量的維度表示\n",
        "# (3). 輸入、輸出皆為整數\n",
        "# 參考：(1. Numpy 教學)：(0 維度資料 純量(Scalar))\n",
        "\n",
        "def np_subtract(number_1, number_2):\n",
        "\n",
        "  int_to_np_1 = ?\n",
        "  int_to_np_2 = ?\n",
        "\n",
        "  subtraction = int_to_np_1 - int_to_np_2\n",
        "  subtraction = int(subtraction) # 型態轉換\n",
        "\n",
        "  return subtraction\n",
        "\n",
        "subtraction = np_subtract(17, 5)\n",
        "print(f'相減後的結果：{subtraction}')\n",
        "### 練習結果\n",
        "# 相減後的結果：12"
      ],
      "metadata": {
        "id": "worzTOZ27Nka",
        "cellView": "form"
      },
      "execution_count": null,
      "outputs": []
    },
    {
      "cell_type": "code",
      "source": [
        "#@title 練習 2：週年慶活動的點數發送\n",
        "### 情境：商店週年慶的點數大放送，每人免費贈送 100 點\n",
        "# 右邊是會員目前有的點數：王伯伯有 300點，肯爺爺有 350點， 麥叔叔有180點\n",
        "# 參考：（1. Numpy 教學）：(向量相加）\n",
        "\n",
        "### 實作練習 ###\n",
        "\n",
        "points = ?\n",
        "free_points = ?\n",
        "final_points = ?\n",
        "\n",
        "### 實作練習 ###\n",
        "\n",
        "print(f'增加大放送後，會員的點數：{final_points}\\n(依序：王伯伯、肯爺爺、麥叔叔)')\n",
        "\n",
        "### 練習結果\n",
        "# 增加大放送後，會員的點數：[400 450 280]\n",
        "# (依序：王伯伯、肯爺爺、麥叔叔)"
      ],
      "metadata": {
        "id": "3fQ6NaDu3_Sb",
        "cellView": "form"
      },
      "execution_count": null,
      "outputs": []
    },
    {
      "cell_type": "code",
      "source": [
        "#@title 練習 3：貓咪個人特寫\n",
        "### 情境：請用 row 與 column 的方式，\n",
        "# 請給右上角的橘色貓咪來做個人特寫\n",
        "# 參考：（3. 圖片操作）：（從 row, column 切圖塊的範圍）\n",
        "\n",
        "### 實作練習 ###\n",
        "plt.imshow(img_array[:,:])\n",
        "### 實作練習 ###\n",
        "\n",
        "### 練習結果\n",
        "# 畫面中僅出現右上的橘貓"
      ],
      "metadata": {
        "id": "Y0yagvyA4FLu",
        "cellView": "form"
      },
      "execution_count": null,
      "outputs": []
    },
    {
      "cell_type": "markdown",
      "source": [
        "## 5. Pandas"
      ],
      "metadata": {
        "id": "oHLMymAQMlIN"
      }
    },
    {
      "cell_type": "code",
      "source": [
        "# 情境：半年的商店收入、店面成本與員工成本\n",
        "import pandas as pd\n",
        "\n",
        "data = {\n",
        "    'Category': ['Revenue', 'Store Costs', 'Labor Costs'],\n",
        "    'January': [80902, 48033, 39160],\n",
        "    'February': [75193, 21182, 12392],\n",
        "    'March': [58681, 38496, 48639],\n",
        "    'April': [84437, 40789, 49537],\n",
        "    'May': [91138, 46733, 42860],\n",
        "    'June': [55607, 43351, 25015]\n",
        "}\n",
        "\n",
        "# 創建DataFrame\n",
        "df = pd.DataFrame(data)\n",
        "df.set_index('Category', inplace=True)\n",
        "\n",
        "# 顯示DataFrame\n",
        "df"
      ],
      "metadata": {
        "id": "pgOSHyB_v0L5"
      },
      "execution_count": null,
      "outputs": []
    },
    {
      "cell_type": "code",
      "source": [
        "# df.loc[row , column]\n",
        "# row -> 橫坐標\n",
        "# column -> 縱座標"
      ],
      "metadata": {
        "id": "DiFCkJhNfDNr"
      },
      "execution_count": null,
      "outputs": []
    },
    {
      "cell_type": "code",
      "source": [
        "# 查看所有收入，從 row 撈資料\n",
        "revenue = df.loc['Revenue' , :]\n",
        "print(f'收入資料：{revenue}')"
      ],
      "metadata": {
        "id": "qlFfhWc46mEw"
      },
      "execution_count": null,
      "outputs": []
    },
    {
      "cell_type": "code",
      "source": [
        "# 查看三月的資料，從colum撈資料\n",
        "March_data = df.loc[: , 'March']\n",
        "print(f'三月的資料：{March_data}')"
      ],
      "metadata": {
        "id": "_4UJpu1D7Hiy"
      },
      "execution_count": null,
      "outputs": []
    },
    {
      "cell_type": "code",
      "source": [
        "# 查看三月時的收入，從 row 跟 column 撈資料\n",
        "March_revenue = df.loc['Revenue' , 'March']\n",
        "print(f'三月的收入：{March_revenue}')"
      ],
      "metadata": {
        "id": "MmhEmXVY7Jkq"
      },
      "execution_count": null,
      "outputs": []
    },
    {
      "cell_type": "code",
      "source": [
        "# 單純找 row 的資料，可以省略 column 的填寫\n",
        "revenue = df.loc['Revenue' , :]\n",
        "# revenue = df.loc['Revenue']\n",
        "print(f'收入資料：{revenue}')"
      ],
      "metadata": {
        "id": "lUSWTuo1fUct"
      },
      "execution_count": null,
      "outputs": []
    },
    {
      "cell_type": "code",
      "source": [
        "# 加總與平均值\n",
        "total_revenus = df.loc['Revenue'].sum()\n",
        "print(f'半年總收益：{total_revenus}')\n",
        "\n",
        "total_revenus = df.loc['Revenue'].mean()\n",
        "print(f'半年總收益：{total_revenus}')"
      ],
      "metadata": {
        "id": "VowLCs-o2E7S"
      },
      "execution_count": null,
      "outputs": []
    },
    {
      "cell_type": "code",
      "source": [
        "# 情境：新增營業收益的資料\n",
        "# 營業利益 = 收入 - 店面成本 - 人力成本\n",
        "\n",
        "df.loc['Profit'] = df.loc['Revenue'] - df.loc['Store Costs'] - df.loc['Labor Costs']\n",
        "df"
      ],
      "metadata": {
        "id": "4cW0SDetxdNX"
      },
      "execution_count": null,
      "outputs": []
    },
    {
      "cell_type": "code",
      "source": [
        "# 維度交換：使用情況，某些 functions 只能從 Row 方向使用，或做矩陣乘法需要\n",
        "df.T"
      ],
      "metadata": {
        "id": "EJsXRinktBh8"
      },
      "execution_count": null,
      "outputs": []
    },
    {
      "cell_type": "code",
      "source": [
        "# 統計分析\n",
        "df.T.describe()"
      ],
      "metadata": {
        "id": "bmaKyX-PtQyy"
      },
      "execution_count": null,
      "outputs": []
    },
    {
      "cell_type": "code",
      "source": [
        "# 情境：查找收入的資料，從最高的收入排到最低的收入\n",
        "df.T.sort_values(by='Revenue', ascending=False) # 排序以 row 的方向排序"
      ],
      "metadata": {
        "id": "xyIbtwbkteSG"
      },
      "execution_count": null,
      "outputs": []
    },
    {
      "cell_type": "code",
      "source": [
        "# 情境：製作折線圖的營業狀況報表\n",
        "df.T.plot()"
      ],
      "metadata": {
        "id": "zySPpJJ6vDjl"
      },
      "execution_count": null,
      "outputs": []
    },
    {
      "cell_type": "markdown",
      "source": [
        "## 隨堂練習 B"
      ],
      "metadata": {
        "id": "w5vtQFfioW-J"
      }
    },
    {
      "cell_type": "code",
      "source": [
        "#@title 練習 1：五月的營收表現\n",
        "### 情境：公司在母親節辦了行銷活動，行銷部門想查看，五月的收入狀況，\n",
        "### 請提供這個數字給他，可以直接打印出來\n",
        "### 參考：（5. Pandas）-（查看三月時的收入，從 row 跟 column 撈資料）\n",
        "\n",
        "data = {\n",
        "    'Category': ['Revenue', 'Store Costs', 'Labor Costs'],\n",
        "    'January': [80902, 48033, 39160],\n",
        "    'February': [75193, 21182, 12392],\n",
        "    'March': [58681, 38496, 48639],\n",
        "    'April': [84437, 40789, 49537],\n",
        "    'May': [91138, 46733, 42860],\n",
        "    'June': [55607, 43351, 25015]\n",
        "}\n",
        "\n",
        "df = pd.DataFrame(data)\n",
        "df.set_index('Category', inplace=True)\n",
        "\n",
        "### 實作練習 ###\n",
        "revenue_May = ?\n",
        "### 實作練習 ###\n",
        "\n",
        "print(f'五月營收為：{revenue_May}')\n",
        "### 練習結果：\n",
        "# 五月營收為：91138"
      ],
      "metadata": {
        "id": "bnLgBk15zaat",
        "cellView": "form"
      },
      "execution_count": null,
      "outputs": []
    },
    {
      "cell_type": "code",
      "source": [
        "#@title 練習 2：人力成本的資料視覺化\n",
        "### 情境：公司總裁想在人事成本較貴月份，找尋工讀生來降成本\n",
        "### 他想看營業的報表，並以人力成本(Labor Costs)的數字，從高到低排列\n",
        "### 參考：（5. Pandas）-（情境：查找收入的資料，從最高的收入排到最低的收入）\n",
        "### 參考：（5. Pandas）-（情境：製作折線圖的營業狀況報表）\n",
        "\n",
        "data = {\n",
        "    'Category': ['Revenue', 'Store Costs', 'Labor Costs'],\n",
        "    'January': [80902, 48033, 39160],\n",
        "    'February': [75193, 21182, 12392],\n",
        "    'March': [58681, 38496, 48639],\n",
        "    'April': [84437, 40789, 49537],\n",
        "    'May': [91138, 46733, 42860],\n",
        "    'June': [55607, 43351, 25015]\n",
        "}\n",
        "\n",
        "df = pd.DataFrame(data)\n",
        "df.set_index('Category', inplace=True)\n",
        "\n",
        "### 實作練習 ###\n",
        "df.?.?.? # 先轉置 -> 對資料做高低處理 -> 視覺化\n",
        "### 實作練習 ###\n",
        "\n",
        "### 練習結果：\n",
        "# Labor 的折線圖，從左到右，會是遞減的狀況"
      ],
      "metadata": {
        "id": "OISqg35kyf73",
        "cellView": "form"
      },
      "execution_count": null,
      "outputs": []
    },
    {
      "cell_type": "code",
      "source": [
        "#@title 練習 3：新增營業總成本的資料\n",
        "### 情境：計算半年的營業總成本，加入到原本的DataFrame ###\n",
        "# 營業總成本 = 商店成本 + 員工成本\n",
        "# 營業總成本 的欄位，名稱用 Total Costs 表示\n",
        "### 參考：（5. Pandas）-（情境：新增營業收益的資料）\n",
        "\n",
        "data = {\n",
        "    'Category': ['Revenue', 'Store Costs', 'Labor Costs'],\n",
        "    'January': [80902, 48033, 39160],\n",
        "    'February': [75193, 21182, 12392],\n",
        "    'March': [58681, 38496, 48639],\n",
        "    'April': [84437, 40789, 49537],\n",
        "    'May': [91138, 46733, 42860],\n",
        "    'June': [55607, 43351, 25015]\n",
        "}\n",
        "\n",
        "df = pd.DataFrame(data)\n",
        "df.set_index('Category', inplace=True)\n",
        "\n",
        "# 營業總成本 = 營業成本 + 員工成本\n",
        "\n",
        "### 實作練習 ###\n",
        "df.loc['Total Costs'] = ?\n",
        "df\n",
        "### 實作練習 ###\n",
        "\n",
        "### 練習結果：\n",
        "# datafram 增加一行 Total Costs -> 87193\t33574\t87135\t90326\t89593\t68366"
      ],
      "metadata": {
        "id": "zmOT_kHI2-lE",
        "cellView": "form"
      },
      "execution_count": null,
      "outputs": []
    },
    {
      "cell_type": "markdown",
      "source": [
        "## 6. 線性代數\n",
        "線性代數是關於向量空間和線性映射的一個數學分支，可以用在材料學、經濟學、商業管理以及計算機科學。"
      ],
      "metadata": {
        "id": "JBkrQj0Fp0bZ"
      }
    },
    {
      "cell_type": "code",
      "source": [
        "# 矩陣相加、矩陣相減、矩陣逐項相乘\n",
        "import numpy as np\n",
        "\n",
        "array_first = np.array([[ 0, 0],\n",
        "                        [10,10],\n",
        "                        [20,20]])\n",
        "\n",
        "array_second = np.array([[ 1, 1],\n",
        "                         [ 2, 2],\n",
        "                         [ 3, 3]])"
      ],
      "metadata": {
        "id": "gyPciIJGzZOZ"
      },
      "execution_count": null,
      "outputs": []
    },
    {
      "cell_type": "code",
      "source": [
        "# 矩陣相加\n",
        "array_first + array_second"
      ],
      "metadata": {
        "id": "pVoH9OHg2Tkv"
      },
      "execution_count": null,
      "outputs": []
    },
    {
      "cell_type": "code",
      "source": [
        "# 矩陣相減\n",
        "array_first - array_second"
      ],
      "metadata": {
        "id": "-XKvcP9i2Y57"
      },
      "execution_count": null,
      "outputs": []
    },
    {
      "cell_type": "code",
      "source": [
        "# 矩陣逐項相乘\n",
        "array_first * array_second"
      ],
      "metadata": {
        "id": "YH1ZxYvozrvP"
      },
      "execution_count": null,
      "outputs": []
    },
    {
      "cell_type": "code",
      "source": [
        "# 矩陣逐項相除\n",
        "array_first / array_second"
      ],
      "metadata": {
        "id": "ljWDVlIN3Z4E"
      },
      "execution_count": null,
      "outputs": []
    },
    {
      "cell_type": "code",
      "source": [
        "# 維度沒有對齊\n",
        "array_third = np.array([[ 1, 1],\n",
        "                        [ 2, 2],\n",
        "                        [ 3, 3],\n",
        "                        [ 4, 4]])\n",
        "\n",
        "print(f'新的矩陣維度：{array_third.shape}')\n",
        "array_first + array_third"
      ],
      "metadata": {
        "id": "RQkeKd3C3MuZ"
      },
      "execution_count": null,
      "outputs": []
    },
    {
      "cell_type": "markdown",
      "source": [
        "## 7. 廣播 (Broadcasting)"
      ],
      "metadata": {
        "id": "T0B_NQQr-n6N"
      }
    },
    {
      "cell_type": "code",
      "source": [
        "# 第一個矩陣\n",
        "array_first = np.array([[ 0, 0],\n",
        "                        [10,10],\n",
        "                        [20,20],\n",
        "                        [30,30]])\n",
        "\n",
        "print(f'First array shape：{array_first.shape}')"
      ],
      "metadata": {
        "id": "CPm4iLtzUGXT"
      },
      "execution_count": null,
      "outputs": []
    },
    {
      "cell_type": "code",
      "source": [
        "# 第二個矩陣\n",
        "array_second = np.array([[1,2]])\n",
        "\n",
        "print(f'Second array shape：{array_second.shape}')"
      ],
      "metadata": {
        "id": "i9wm359utNh6"
      },
      "execution_count": null,
      "outputs": []
    },
    {
      "cell_type": "code",
      "source": [
        "# 矩陣相加\n",
        "print('矩陣相加後的結果：')\n",
        "print(array_first + array_second)"
      ],
      "metadata": {
        "id": "m6LifLE8Nk52"
      },
      "execution_count": null,
      "outputs": []
    },
    {
      "cell_type": "code",
      "source": [
        "# (4, 2) vs (4, 1)\n",
        "\n",
        "array_second = np.array([[1],[2],[3],[4]])\n",
        "\n",
        "print(f'Second array shape：{array_second.shape}')\n",
        "print('矩陣相加後的結果：')\n",
        "print(array_first + array_second)"
      ],
      "metadata": {
        "id": "rWJRy3LXtX3Y"
      },
      "execution_count": null,
      "outputs": []
    },
    {
      "cell_type": "code",
      "source": [
        "# (4, 2) + (1, 1) ：使用 tile\n",
        "array_second = np.array([[3]])\n",
        "print(f'矩陣內容：')\n",
        "print(array_second)\n",
        "print(f'Array shape：{array_second.shape}')\n",
        "\n",
        "array_second = np.tile(array_second, (4,2))\n",
        "print(f'矩陣內容：')\n",
        "print(array_second)\n",
        "print(f'Array shape：{array_second.shape}')"
      ],
      "metadata": {
        "id": "US2rpeLytfaF"
      },
      "execution_count": null,
      "outputs": []
    },
    {
      "cell_type": "code",
      "source": [
        "### 情境：報名美商的財物公司報稅，需要台幣轉美金\n",
        "import pandas as pd\n",
        "\n",
        "data = {\n",
        "    'Category': ['Revenue', 'Store Costs', 'Labor Costs'],\n",
        "    'January': [80902, 48033, 39160],\n",
        "    'February': [75193, 21182, 12392],\n",
        "    'March': [58681, 38496, 48639],\n",
        "    'April': [84437, 40789, 49537],\n",
        "    'May': [91138, 46733, 42860],\n",
        "    'June': [55607, 43351, 25015]\n",
        "}\n",
        "\n",
        "df = pd.DataFrame(data)\n",
        "df.set_index('Category', inplace=True)"
      ],
      "metadata": {
        "id": "heVQc6CjvBja"
      },
      "execution_count": null,
      "outputs": []
    },
    {
      "cell_type": "code",
      "source": [
        "### 檢查兩個矩陣的維度\n",
        "revenue_and_cost = df.to_numpy()\n",
        "print(f'半年營業的資料維度：{revenue_and_cost.shape}')\n",
        "\n",
        "NTD_to_USD = np.array([[0.03]])\n",
        "print(f'台幣轉美幣匯率的資料維度：{NTD_to_USD.shape}')"
      ],
      "metadata": {
        "id": "mw2Q_dKvuFHv"
      },
      "execution_count": null,
      "outputs": []
    },
    {
      "cell_type": "code",
      "source": [
        "# 矩陣的逐項相乘\n",
        "revenue_and_cost = np.multiply(revenue_and_cost, NTD_to_USD)\n",
        "print(f'矩陣乘上匯率後的結果：\\n{revenue_and_cost}')"
      ],
      "metadata": {
        "id": "qUtGqNXu5h4_"
      },
      "execution_count": null,
      "outputs": []
    },
    {
      "cell_type": "markdown",
      "source": [
        "## 8. 矩陣乘法\n",
        "\n"
      ],
      "metadata": {
        "id": "mraIeh0NYm-c"
      }
    },
    {
      "cell_type": "markdown",
      "source": [
        "以下是兩個矩陣 (1x2) 和 (2x3) 的矩陣相乘的例子：\n",
        "\n",
        "### 範例\n",
        "\n",
        "假設有兩個矩陣 A 和 B：\n",
        "\n",
        "矩陣 A（1x2）：\n",
        "\n",
        "\\\\[ A = \\begin{pmatrix} a_{11} & a_{12} \\end{pmatrix} \\\\]\n",
        "\n",
        "矩陣 B（2x3）：\n",
        "\n",
        "\\\\[ B = \\begin{pmatrix} b_{11} & b_{12} & b_{13} \\\\ b_{21} & b_{22} & b_{23} \\end{pmatrix} \\\\]\n",
        "\n",
        "\n",
        "\n",
        "這兩個矩陣相乘的結果是矩陣 C（1x3）：\n",
        "\n",
        "\\\\[ C = A \\times B \\\\]\n",
        "\n",
        "### 計算方法\n",
        "\n",
        "矩陣 C 的元素 \\\\( c_{ij} \\\\) 由以下公式計算：\n",
        "\n",
        "\\\\[ c_{ij} = \\sum_{k=1}^{2} a_{ik} \\times b_{kj} \\\\]\n",
        "\n",
        "### 實例計算\n",
        "\n",
        "假設：\n",
        "\n",
        "\\\\[ A = \\begin{pmatrix} 1 & 2 \\end{pmatrix} \\\\]\n",
        "\n",
        "\\\\[ B = \\begin{pmatrix} 3 & 4 & 5 \\\\ 6 & 7 & 8 \\end{pmatrix} \\\\]\n",
        "\n",
        "我們計算矩陣 C：\n",
        "\n",
        "\\\\[ C = \\begin{pmatrix} c_{11} & c_{12} & c_{13} \\end{pmatrix} \\\\]\n",
        "\n",
        "其中：\n",
        "\n",
        "\\\\[ c_{11} = 1 \\times 3 + 2 \\times 6 = 3 + 12 = 15 \\\\]\n",
        "\n",
        "\\\\[ c_{12} = 1 \\times 4 + 2 \\times 7 = 4 + 14 = 18 \\\\]\n",
        "\n",
        "\\\\[ c_{13} = 1 \\times 5 + 2 \\times 8 = 5 + 16 = 21 \\\\]\n",
        "\n",
        "\n",
        "所以，矩陣 C 是：\n",
        "\n",
        "\\\\[ C = \\begin{pmatrix} 15 & 18 & 21 \\end{pmatrix} \\\\]\n"
      ],
      "metadata": {
        "id": "SgipCH0WduyG"
      }
    },
    {
      "cell_type": "code",
      "source": [
        "#                         水果的營養成分\n",
        "#              vitamins_A, vitamins_C,  Moisture\n",
        "watermelon =  (  418,          8,          93   )\n",
        "guava      =  (  50,           81,         89   )\n",
        "banana     =  (  5,            10,         74   )"
      ],
      "metadata": {
        "id": "m9oj9lbCpxzq"
      },
      "execution_count": null,
      "outputs": []
    },
    {
      "cell_type": "code",
      "source": [
        "# 建立矩陣\n",
        "fruit_nutrient_array = np.array([watermelon, guava, banana])\n",
        "print('水果的營養成分矩陣')\n",
        "print(fruit_nutrient_array)"
      ],
      "metadata": {
        "id": "dzjH0yxZrW8E"
      },
      "execution_count": null,
      "outputs": []
    },
    {
      "cell_type": "code",
      "source": [
        "# 水果數量\n",
        "w_quantity = 1\n",
        "g_quantity = 0\n",
        "b_quantity = 2\n",
        "\n",
        "print('水果的數量矩陣')\n",
        "fruit = (w_quantity, g_quantity, b_quantity)\n",
        "fruit_quantity_array = np.array([fruit])\n",
        "print(fruit_quantity_array)"
      ],
      "metadata": {
        "id": "2pphX-dGrwT_"
      },
      "execution_count": null,
      "outputs": []
    },
    {
      "cell_type": "code",
      "source": [
        "# 確定兩個矩陣可以做相乘\n",
        "print(fruit_quantity_array.shape)\n",
        "print(fruit_nutrient_array.shape)"
      ],
      "metadata": {
        "id": "9TjTrAPO-xOH"
      },
      "execution_count": null,
      "outputs": []
    },
    {
      "cell_type": "code",
      "source": [
        "# 矩陣相乘\n",
        "total_nutrient = np.dot(fruit_quantity_array, fruit_nutrient_array)\n",
        "print(f'總攝取營養：{total_nutrient}')\n",
        "print(f'資料的維度：{total_nutrient.shape}')"
      ],
      "metadata": {
        "id": "Oc0FMA1ksIn8"
      },
      "execution_count": null,
      "outputs": []
    },
    {
      "cell_type": "markdown",
      "source": [
        "## 隨堂練習 C"
      ],
      "metadata": {
        "id": "vd2lbf929uBv"
      }
    },
    {
      "cell_type": "markdown",
      "source": [
        "練習用網址： [財政部 113年度累進稅率](https://www.ntbt.gov.tw/multiplehtml/1b82b380e1a34de9afd204d39b007db2)"
      ],
      "metadata": {
        "id": "QzfTbtU2B7uE"
      }
    },
    {
      "cell_type": "code",
      "source": [
        "#@title 練習 1：計算所得稅 -> [113年度累進稅率](https://www.ntbt.gov.tw/multiplehtml/1b82b380e1a34de9afd204d39b007db2)\n",
        "### 情境：接到一個財部部的專案，要計算小明、小王、小李的年收、稅率與所得稅矩陣\n",
        "# 小明的年收：48萬，小王的年收：150萬，小李的年收：86萬\n",
        "# 公式：全年稅額 = 所得 * 稅率 - 差額\n",
        "# 參考：（6. 線性代數）-（矩陣逐項相乘、相減）\n",
        "\n",
        "### 實作練習 ###\n",
        "\n",
        "revenue_martix = np.array([ ? ]) # 數字的單位以萬元來計算，revenue = 10 ,代表 10萬\n",
        "rate_martix = np.array([ ? ]) # 稅率的值： 100% = 1,  5% = 0.05\n",
        "difference_martix = np.array([ ? ]) # 數字的單位以萬元來計算，difference = 4.1 代表 4萬1千\n",
        "\n",
        "tax_martix = ?\n",
        "\n",
        "### 實作練習 ###\n",
        "\n",
        "print(f'三人應繳所得稅為：{tax_martix}')\n",
        "### 練習結果\n",
        "# 三人應繳所得稅為：[[ 2.4  15.23  6.19]]"
      ],
      "metadata": {
        "id": "WwzdCLRv59kt",
        "cellView": "form"
      },
      "execution_count": null,
      "outputs": []
    },
    {
      "cell_type": "code",
      "source": [
        "#@title 練習 2：計算文具成本\n",
        "### 情境：老闆想想知道每種文具、在每個月的成本，以此作去調整進貨決策\n",
        "# 商品的成本比例 Pen: 0.7, Ruler: 0.5, Eraser: 0.6\n",
        "#\n",
        "# (1) 製作成本矩陣，選擇下列兩個，其中一個方式\n",
        "#     a. 使用 np.tile() 取得相同大小的矩陣 -> np.tile(array, (?,?))\n",
        "#     b. 藉由 boardcast的特性，其中一個維度的數量值，必須為 1\n",
        "# (2) 注意中括號的擺放位置，與 row, colum 構成的維度有關\n",
        "#     a. np.array([[0,1]]).shape -> (1, 2)\n",
        "#     n. np.array([[0],[1]]).shape -> (2, 1)\n",
        "# (3) 收入矩陣與成本矩陣，做逐項相乘\n",
        "\n",
        "data = {\n",
        "    'Product': ['Pen', 'Ruler', 'Eraser'],\n",
        "    'January': [10000, 9000, 8500],\n",
        "    'February': [10500, 9500, 8700],\n",
        "    'March': [11000, 9200, 9000],\n",
        "    'April': [11500, 9300, 8800],\n",
        "    'May': [12000, 9400, 8600],\n",
        "    'June': [12500, 9600, 8900]\n",
        "}\n",
        "\n",
        "df = pd.DataFrame(data)\n",
        "df.set_index('Product', inplace=True)\n",
        "revenue_martix = df.to_numpy()\n",
        "print(revenue_martix.shape) # shape -> (3, 6)\n",
        "\n",
        "### 實作練習 ###\n",
        "\n",
        "cost_martix = np.array(?) # 實作一個 numpy 2維矩陣 ｜ 注意 [] 位置跟數量\n",
        "result_martix = ? # 矩陣逐項乘法\n",
        "\n",
        "### 實作練習 ###\n",
        "\n",
        "print(f'每個月的商品成本表：')\n",
        "print(result_martix)\n",
        "\n",
        "### 實作結果：\n",
        "# 每個月的商品成本表：\n",
        "# [[7000. 7350. 7700. 8050. 8400. 8750.]\n",
        "#  [4500. 4750. 4600. 4650. 4700. 4800.]\n",
        "#  [5100. 5220. 5400. 5280. 5160. 5340.]]"
      ],
      "metadata": {
        "id": "98F4hINl9wzH",
        "colab": {
          "base_uri": "https://localhost:8080/",
          "height": 108
        },
        "cellView": "form",
        "outputId": "5da79eb0-b1a7-4b9a-c1b3-fdceee2ea8f1"
      },
      "execution_count": 125,
      "outputs": [
        {
          "output_type": "error",
          "ename": "SyntaxError",
          "evalue": "invalid syntax (<ipython-input-125-f94f3291eb7e>, line 30)",
          "traceback": [
            "\u001b[0;36m  File \u001b[0;32m\"<ipython-input-125-f94f3291eb7e>\"\u001b[0;36m, line \u001b[0;32m30\u001b[0m\n\u001b[0;31m    cost_martix = np.array(?) # 實作一個 numpy 2維矩陣 ｜ 注意 [] 位置跟數量\u001b[0m\n\u001b[0m                           ^\u001b[0m\n\u001b[0;31mSyntaxError\u001b[0m\u001b[0;31m:\u001b[0m invalid syntax\n"
          ]
        }
      ]
    },
    {
      "cell_type": "markdown",
      "source": [
        "### 練習 3：計算訂單的成本"
      ],
      "metadata": {
        "id": "7uGc4zDl0AuY"
      }
    },
    {
      "cell_type": "code",
      "source": [
        "# 情境：水果老闆想知道，八月以及九月訂單的成本矩陣\n",
        "#      商品成本 運費成本   商品稅\n",
        "apple  = [3,   0.5,  0.3]\n",
        "orange = [2.5, 0.4,  0.2]\n",
        "banana = [1,   0.2,  0.1]\n",
        "# 矩陣的資料本質 (水果種類, 成本種量)\n",
        "\n",
        "product_cost_martix  = np.array([apple, orange, banana])\n",
        "print('商品的成本矩陣')\n",
        "print(product_cost_martix )\n",
        "print(f'成本矩陣的維度：{product_cost_martix.shape}')\n",
        "print(f'')"
      ],
      "metadata": {
        "id": "vYxc0w6dP24o"
      },
      "execution_count": null,
      "outputs": []
    },
    {
      "cell_type": "code",
      "source": [
        "# 取得水果的數量矩陣\n",
        "#         蘋果數量, 橘子數量, 香蕉數量\n",
        "# 八月訂單：  10,      5,      20\n",
        "# 九月訂單：  3,       7,      12\n",
        "\n",
        "### 實作練習 ###\n",
        "\n",
        "product_quantity_array = ?  # 提示：數據的本質 (數量, 水果種類) ｜ 注意：[] 的位置以及數量\n",
        "\n",
        "### 實作練習 ###\n",
        "\n",
        "print('商品的數量矩陣')\n",
        "print(product_quantity_array)\n",
        "print(f'數量矩陣的維度：{product_quantity_array.shape}')\n",
        "\n",
        "### 實作結果\n",
        "# 商品的數量矩陣\n",
        "# [[10  5 20]\n",
        "#  [ 3  7 12]]\n",
        "# 數量矩陣的維度：(2, 3)"
      ],
      "metadata": {
        "id": "P1Q4xhW3MLXa"
      },
      "execution_count": null,
      "outputs": []
    },
    {
      "cell_type": "code",
      "source": [
        "# 情境：計算每個產品半年的總成本 - 實作\n",
        "# 提示：矩陣相乘的規範 (n, m) dot (m, k) -> (n, k)\n",
        "# 第一個矩陣的 row 數量與 第二個矩陣的 column 數量，需一致。\n",
        "# 參考：（8. 矩陣乘法）：（矩陣乘法）\n",
        "\n",
        "### 實作練習 ###\n",
        "cost_array = ? # 矩陣相乘，注意兩個矩陣的前後位置\n",
        "### 實作練習 ###\n",
        "\n",
        "print('訂單x成本矩陣(商品成本、運費成本、商品稅金)：')\n",
        "print(f'{cost_array}')\n",
        "print(f'資料的維度：{cost_array.shape}')\n",
        "\n",
        "### 練習結果：\n",
        "# 訂單x成本矩陣(商品成本、運費成本、商品稅金)：\n",
        "# [[62.5 11.   6. ]\n",
        "#  [38.5  6.7  3.5]]\n",
        "# 資料的維度：(2, 3)"
      ],
      "metadata": {
        "id": "a9puttQd2TTt"
      },
      "execution_count": null,
      "outputs": []
    },
    {
      "cell_type": "markdown",
      "source": [
        "## 9. 鳶尾花資料集"
      ],
      "metadata": {
        "id": "yRFtYHkMxZt-"
      }
    },
    {
      "cell_type": "code",
      "source": [
        "# 匯入訓練與測試資料\n",
        "from units import show_sigmoid_function, show_tanh_function, show_cross_entropy_loss\n",
        "\n",
        "data_set = pd.read_csv('iris_training.csv', header=None)\n",
        "data_test = pd.read_csv('iris_test.csv', header=None)"
      ],
      "metadata": {
        "id": "L8RS3BvQYB6O"
      },
      "execution_count": null,
      "outputs": []
    },
    {
      "cell_type": "code",
      "source": [
        "data_set[:5] # 抽取前五筆"
      ],
      "metadata": {
        "id": "ZQphiSijxU5V"
      },
      "execution_count": null,
      "outputs": []
    },
    {
      "cell_type": "code",
      "source": [
        "data_set[:1] # 萼片長度, 萼片寬度, 花瓣長度, 花瓣寬度, 是否為山鳶尾, 是否為變色鳶尾, 是否為維吉尼亞鴛尾"
      ],
      "metadata": {
        "id": "15qMakukybgi"
      },
      "execution_count": null,
      "outputs": []
    },
    {
      "cell_type": "code",
      "source": [
        "# 種類類別：純數字 vs one-hot encoding\n",
        "# 類別為1： 1 vs 0 1 0\n",
        "# 類別為0： 0 vs 1 0 0\n",
        "# 類別為2： 2 vs 0 0 1"
      ],
      "metadata": {
        "id": "-1UO_9zEyDb3"
      },
      "execution_count": null,
      "outputs": []
    },
    {
      "cell_type": "code",
      "source": [
        "# 訓練與測試資料數量\n",
        "print(f'訓練資料數量：{len(data_set)}')\n",
        "print(f'測試資料數量：{len(data_test)}')"
      ],
      "metadata": {
        "id": "4t0LgNQYyb1H"
      },
      "execution_count": null,
      "outputs": []
    },
    {
      "cell_type": "code",
      "source": [
        "# 資料抽取：特徵與標籤\n",
        "print(f'(特徵,資料量) | {data_set.values.T.shape}')"
      ],
      "metadata": {
        "id": "-4wFHx8I0MzT"
      },
      "execution_count": null,
      "outputs": []
    },
    {
      "cell_type": "code",
      "source": [
        "# 資料抽取：特徵與標籤，做分離\n",
        "train_data = data_set.iloc[:, 0:4].values.T\n",
        "label_data = data_set.iloc[:, 4:].values.T\n",
        "\n",
        "label_data = label_data.astype('uint8')\n",
        "print(f'(特徵,資料量) | {train_data.shape}')\n",
        "print(f'(特徵,資料量) | {label_data.shape}')"
      ],
      "metadata": {
        "id": "yKmpKJ2A4JF9"
      },
      "execution_count": null,
      "outputs": []
    },
    {
      "cell_type": "markdown",
      "source": [
        "## 10. 建立類神經模型"
      ],
      "metadata": {
        "id": "TWVmDJMSylMK"
      }
    },
    {
      "cell_type": "code",
      "source": [
        "# 隨機 random 產值\n",
        "data = np.random.randn(2, 5) # 常態分佈\n",
        "print(data)"
      ],
      "metadata": {
        "id": "mWQH_syPUiMw"
      },
      "execution_count": null,
      "outputs": []
    },
    {
      "cell_type": "code",
      "source": [
        "# 設定參數\n",
        "feature_quantity = 4 # 特徵\n",
        "weights_quantity = 10 # weights 10\n",
        "class_quantity = 3 # 種類"
      ],
      "metadata": {
        "id": "mKe6dFqrxX4s"
      },
      "execution_count": null,
      "outputs": []
    },
    {
      "cell_type": "code",
      "source": [
        "# 建立神經網路\n",
        "w1 = np.random.randn(weights_quantity, feature_quantity) # (10, 4)\n",
        "b1 = np.zeros(shape=(weights_quantity, 1))  # (10, 1)\n",
        "\n",
        "w2 = np.random.randn(class_quantity, weights_quantity)   # (3, 10)\n",
        "b2 = np.zeros(shape=(class_quantity, 1))    # (3, 1)\n",
        "\n",
        "parameters = {'w1': w1, 'b1': b1, 'w2': w2, 'b2': b2}"
      ],
      "metadata": {
        "id": "jmxC6CPxypv-"
      },
      "execution_count": null,
      "outputs": []
    },
    {
      "cell_type": "code",
      "source": [
        "# 參數維度\n",
        "print('第一次層數')\n",
        "print(f'參數量：weights {w1.shape}')\n",
        "print(f'參數量：bias {b1.shape}')\n",
        "\n",
        "print('第二次層數')\n",
        "print(f'參數量：weights {w2.shape}')\n",
        "print(f'參數量：bias {b2.shape}')"
      ],
      "metadata": {
        "id": "V06x3p4GzM82"
      },
      "execution_count": null,
      "outputs": []
    },
    {
      "cell_type": "code",
      "source": [
        "# 資料流變化\n",
        "\n",
        "#  (4, 120) 特徵數量, 資料數量\n",
        "\n",
        "#  第一層計算\n",
        "#  (10, 4) (4, 120) -> (10, 120) 特徵數量, 資料數量\n",
        "\n",
        "#  第二層計算\n",
        "#  (3, 10) (10,120) -> (3, 120)  種類數量, 資料數量\n",
        "\n",
        "#  (3, 120) 種類數量，資料數量"
      ],
      "metadata": {
        "id": "ln1R7jXS-KCN"
      },
      "execution_count": null,
      "outputs": []
    },
    {
      "cell_type": "markdown",
      "source": [
        "## 11. 前向傳播"
      ],
      "metadata": {
        "id": "-DPAa9wA07My"
      }
    },
    {
      "cell_type": "code",
      "source": [
        "# 取出參數值\n",
        "# y = ax + b\n",
        "w1 = parameters['w1']\n",
        "b1 = parameters['b1']\n",
        "\n",
        "w2 = parameters['w2']\n",
        "b2 = parameters['b2']"
      ],
      "metadata": {
        "id": "LcpifXOd22cY"
      },
      "execution_count": null,
      "outputs": []
    },
    {
      "cell_type": "code",
      "source": [
        "# 第一層矩陣計算\n",
        "z1 = np.dot(w1, train_data) + b1\n",
        "a1 = np.tanh(z1)\n",
        "print(a1.shape)"
      ],
      "metadata": {
        "id": "BHe24p_n1bAu"
      },
      "execution_count": null,
      "outputs": []
    },
    {
      "cell_type": "code",
      "source": [
        "# show tanh function\n",
        "from units import show_tanh_function\n",
        "show_tanh_function()"
      ],
      "metadata": {
        "id": "bdEf6GutLCce"
      },
      "execution_count": null,
      "outputs": []
    },
    {
      "cell_type": "code",
      "source": [
        "# 經過第二層\n",
        "z2 = np.dot(w2, a1) + b2\n",
        "a2 = 1 / (1 + np.exp(-z2)) # sigmoid\n",
        "print(a2.shape)"
      ],
      "metadata": {
        "id": "jpK0U6B32Bb7"
      },
      "execution_count": null,
      "outputs": []
    },
    {
      "cell_type": "code",
      "source": [
        "# sigmoid function\n",
        "show_sigmoid_function()"
      ],
      "metadata": {
        "id": "8L2cNANpLUUB"
      },
      "execution_count": null,
      "outputs": []
    },
    {
      "cell_type": "code",
      "source": [
        "# 儲存中間的計算值\n",
        "cache = {'z1': z1, 'a1': a1, 'z2': z2, 'a2': a2}"
      ],
      "metadata": {
        "id": "TCM90Ors2GE7"
      },
      "execution_count": null,
      "outputs": []
    },
    {
      "cell_type": "markdown",
      "source": [
        "## 12. 計算損失函數： 交叉熵 (Cross entropy)\n",
        "\n"
      ],
      "metadata": {
        "id": "eFBC9r5R2W7n"
      }
    },
    {
      "cell_type": "markdown",
      "source": [
        "交叉熵 (Cross entropy) 損失函數：\n",
        "\\\\[ L = -\\sum_{i=1}^{C} y_i \\log(\\hat{y}_i) \\\\]\n",
        "\n",
        "其中：\n",
        "- \\\\( y_i \\\\) 是真實標籤\n",
        "- \\\\( \\hat{y}_i \\\\) 是預測機率\n",
        "- \\\\( \\sum_{i} \\\\) 表示對所有類別進行求和\n",
        "- \\\\(\\log\\\\) 是對數函數\n"
      ],
      "metadata": {
        "id": "1dCqErlpdgQJ"
      }
    },
    {
      "cell_type": "markdown",
      "source": [
        "第一個樣本，真實標籤為 [1, 0, 0]，預測概率為 [0.7, 0.2, 0.1]：\n",
        "\n",
        "\\\\[ L_1 = -[1 \\cdot \\log(0.7) + 0 \\cdot \\log(0.2) + 0 \\cdot \\log(0.1)] = -\\log(0.7) \\\\]\n"
      ],
      "metadata": {
        "id": "3jeSqygZGAFm"
      }
    },
    {
      "cell_type": "code",
      "source": [
        "# 計算 Loss\n",
        "\n",
        "y_true = [1, 0, 0]\n",
        "y_pred = [0.7, 0.2, 0.1]\n",
        "\n",
        "loss_0 = -(y_true[0] * np.log(y_pred[0]))\n",
        "loss_1 = -(y_true[1] * np.log(y_pred[1]))\n",
        "loss_2 = -(y_true[2] * np.log(y_pred[2]))\n",
        "\n",
        "total_loss = loss_0 + loss_1 + loss_2\n",
        "print(\"Loss for sample:\", total_loss)"
      ],
      "metadata": {
        "id": "wZ7F31E-CFGQ"
      },
      "execution_count": null,
      "outputs": []
    },
    {
      "cell_type": "code",
      "source": [
        "show_cross_entropy_loss()"
      ],
      "metadata": {
        "id": "Q23FIc21JVk9"
      },
      "execution_count": null,
      "outputs": []
    },
    {
      "cell_type": "markdown",
      "source": [
        "## 13. 反向傳播 (損失函數的微分)"
      ],
      "metadata": {
        "id": "6lvW3_f_2iB2"
      }
    },
    {
      "cell_type": "code",
      "source": [
        "# 取出要計算的資料\n",
        "m = label_data.shape[1]\n",
        "\n",
        "w2 = parameters['w2']\n",
        "a1 = cache['a1']\n",
        "a2 = cache['a2']"
      ],
      "metadata": {
        "id": "xy8HkdHE3Eiy"
      },
      "execution_count": null,
      "outputs": []
    },
    {
      "cell_type": "code",
      "source": [
        "# 計算梯度\n",
        "dz2 = a2 - label_data\n",
        "dw2 = (1 / m) * np.dot(dz2, a1.T)\n",
        "db2 = (1 / m) * np.sum(dz2, axis=1, keepdims=True)\n",
        "\n",
        "dz1 = np.multiply(np.dot(w2.T, dz2), 1 - np.power(a1, 2))\n",
        "dw1 = (1 / m) * np.dot(dz1, train_data.T)\n",
        "db1 = (1 / m) * np.sum(dz1, axis=1, keepdims=True)\n",
        "\n",
        "grads = {'dw1': dw1, 'db1': db1, 'dw2': dw2, 'db2': db2}"
      ],
      "metadata": {
        "id": "XYrtQsW12lCJ"
      },
      "execution_count": null,
      "outputs": []
    },
    {
      "cell_type": "markdown",
      "source": [
        "## 14. 更新模型參數"
      ],
      "metadata": {
        "id": "q91b6MJ83MP1"
      }
    },
    {
      "cell_type": "code",
      "source": [
        "## 設置學習率\n",
        "learning_rate = 0.4"
      ],
      "metadata": {
        "id": "GezZu4CK3SLY"
      },
      "execution_count": null,
      "outputs": []
    },
    {
      "cell_type": "code",
      "source": [
        "w1 = parameters['w1']\n",
        "b1 = parameters['b1']\n",
        "w2 = parameters['w2']\n",
        "b2 = parameters['b2']\n",
        "\n",
        "dw1 = grads['dw1']\n",
        "db1 = grads['db1']\n",
        "dw2 = grads['dw2']\n",
        "db2 = grads['db2']\n",
        "\n",
        "# 使用梯度來更新参数\n",
        "w1 = w1 - dw1 * learning_rate\n",
        "b1 = b1 - db1 * learning_rate\n",
        "w2 = w2 - dw2 * learning_rate\n",
        "b2 = b2 - db2 * learning_rate\n",
        "\n",
        "parameters = {'w1': w1, 'b1': b1, 'w2': w2, 'b2': b2}"
      ],
      "metadata": {
        "id": "_dJkvQrw3L70"
      },
      "execution_count": null,
      "outputs": []
    },
    {
      "cell_type": "markdown",
      "source": [
        "## 15. Gradient descent (梯度下降)"
      ],
      "metadata": {
        "id": "vqddzbgvp_ey"
      }
    },
    {
      "cell_type": "markdown",
      "source": [
        "### 15.1 範例：簡單的二次函式\n"
      ],
      "metadata": {
        "id": "Yk130wKZBEvM"
      }
    },
    {
      "cell_type": "markdown",
      "source": [
        "\n",
        "1. 函式 : f(x)\n",
        "\n",
        "$$\n",
        "f(x) = (x - 3)^2\n",
        "$$\n",
        "\n",
        "2. 導數 : f'(x)\n",
        "\n",
        "$$\n",
        "f'(x) = 2(x - 3)\n",
        "$$"
      ],
      "metadata": {
        "id": "_7oa3fKQBmmr"
      }
    },
    {
      "cell_type": "code",
      "source": [
        "# 函式 與 導數\n",
        "def f(x):\n",
        "    return (x - 3) ** 2\n",
        "\n",
        "def df(x):\n",
        "    return 2 * (x - 3)"
      ],
      "metadata": {
        "id": "DYQ3KcYCqHRZ"
      },
      "execution_count": null,
      "outputs": []
    },
    {
      "cell_type": "code",
      "source": [
        "# 模型初始化與超參數\n",
        "x = 0\n",
        "learning_rate = 0.1\n",
        "num_iterations = 20"
      ],
      "metadata": {
        "id": "ojK9y27YqJmk"
      },
      "execution_count": null,
      "outputs": []
    },
    {
      "cell_type": "code",
      "source": [
        "# 儲存初始參數\n",
        "x_values = [x]\n",
        "f_values = [f(x)]\n",
        "\n",
        "# 梯度下降\n",
        "for _ in range(num_iterations):\n",
        "    x = x - learning_rate * df(x)  # 更新x\n",
        "    x_values.append(x)\n",
        "    f_values.append(f(x))"
      ],
      "metadata": {
        "id": "e9KhRgxttWug"
      },
      "execution_count": null,
      "outputs": []
    },
    {
      "cell_type": "code",
      "source": [
        "# 資料視覺化\n",
        "print(f\"最終的x值: {x}\")\n",
        "print(f\"最終的f(x)值: {f(x)}\")\n",
        "\n",
        "x_range = np.linspace(-1, 7, 100)\n",
        "y_range = f(x_range)\n",
        "\n",
        "plt.plot(x_range, y_range, label='f(x) = (x - 3)^2')\n",
        "plt.scatter(x_values, f_values, color='red')\n",
        "for i in range(num_iterations):\n",
        "    plt.annotate(f'{i+1}', (x_values[i], f_values[i]))\n",
        "\n",
        "plt.xlabel('x')\n",
        "plt.ylabel('f(x)')\n",
        "plt.title('Gradient Descent')\n",
        "plt.legend()\n",
        "plt.show()"
      ],
      "metadata": {
        "id": "hTAi4RYNp8NV"
      },
      "execution_count": null,
      "outputs": []
    },
    {
      "cell_type": "code",
      "source": [
        "# 情境：身為條參工程師的你，透過超參數控制損失的收斂狀況\n",
        "from units import test_diff_learning_rate\n",
        "\n",
        "x = 0\n",
        "learning_rate = 0.1 # 0.1\n",
        "num_iterations = 20\n",
        "\n",
        "test_diff_learning_rate(x, learning_rate, num_iterations)"
      ],
      "metadata": {
        "id": "z_q9Cp3otdF5"
      },
      "execution_count": null,
      "outputs": []
    },
    {
      "cell_type": "markdown",
      "source": [
        "### 15.2 Momentum 梯度下降公式"
      ],
      "metadata": {
        "id": "pEkwk3wdA-Ao"
      }
    },
    {
      "cell_type": "markdown",
      "source": [
        "\n",
        "\n",
        "Momentum 梯度下降通過在更新方向中引入動量，來加速收斂並避免陷入局部最小值。\n",
        "\n",
        "\n",
        "1. 權重更新\n",
        "\\\\[ \\theta_t = \\theta_{t-1} - \\alpha \\nabla f(\\theta_{t-1}) \\\\]\n",
        "\n",
        "2. 權重更新（帶入動量項）\n",
        "\\\\[ \\theta_t = \\theta_{t-1} - \\alpha (\\beta v_{t-1} + \\nabla f(\\theta_{t-1})) \\\\]\n",
        "\n",
        "\n",
        "符號說明\n",
        "- \\\\( v_t \\) 是第 \\( t \\\\) 步的動量項。\n",
        "- \\\\( \\beta \\) 是動量參數，範圍通常在 \\( 0.8 \\) 到 \\( 0.99 \\\\) 之間。\n",
        "- \\\\( \\nabla f(\\theta_{t-1}) \\\\) 是損失函數對參數的梯度。\n",
        "- \\\\( \\theta_t \\) 是第 \\( t \\\\) 步的參數值。\n",
        "- \\\\( \\alpha \\\\) 是學習率。\n",
        "- \\\\( t \\\\) 是時間步數。\n",
        "\n"
      ],
      "metadata": {
        "id": "iaAdNBgyrbs5"
      }
    },
    {
      "cell_type": "markdown",
      "source": [
        "```python\n",
        "# 添加 momentum\n",
        "for i in range(num_iterations):\n",
        "\n",
        "    # gradient without momeentum\n",
        "    grad = gradient(x_gd)\n",
        "    x_gd = x_gd - (learning_rate * grad)\n",
        "    \n",
        "    # gradient with momeentum\n",
        "    v = momentum * v + gradient(x_gd_momentum)\n",
        "    x_gd_momentum = x_gd_momentum - (learning_rate * v)\n",
        "\n",
        "```"
      ],
      "metadata": {
        "id": "RAm1ZRDhFbyy"
      }
    },
    {
      "cell_type": "code",
      "source": [
        "from units import gd_and_gd_with_momentum\n",
        "\n",
        "x_init = -0.8  # 參數初始化\n",
        "learning_rate = 0.01\n",
        "num_iterations = 30\n",
        "momentum = 0.9\n",
        "\n",
        "gd_and_gd_with_momentum(x_init, learning_rate, num_iterations, momentum)"
      ],
      "metadata": {
        "id": "FS_dY9-VdRHJ"
      },
      "execution_count": null,
      "outputs": []
    },
    {
      "cell_type": "markdown",
      "source": [
        "### 15.3 第一次的模型評估"
      ],
      "metadata": {
        "id": "L-zthIEK3cXs"
      }
    },
    {
      "cell_type": "code",
      "source": [
        "# 評估模型的準確率\n",
        "from units import evaluate_accuracy\n",
        "\n",
        "evaluate_accuracy(data_test, parameters)"
      ],
      "metadata": {
        "id": "DN_q5c8L3bl9"
      },
      "execution_count": null,
      "outputs": []
    },
    {
      "cell_type": "markdown",
      "source": [
        "### 15.4 模型訓練"
      ],
      "metadata": {
        "id": "mEDaNawz5ihY"
      }
    },
    {
      "cell_type": "code",
      "source": [
        "# 載入套件\n",
        "from units import forward_propagation\n",
        "from units import compute_cost\n",
        "from units import backward_propagation\n",
        "from units import update_parameters"
      ],
      "metadata": {
        "id": "EMM2SpnE6on7"
      },
      "execution_count": null,
      "outputs": []
    },
    {
      "cell_type": "code",
      "source": [
        "# 建立神經網路\n",
        "w1 = np.random.randn(weights_quantity, feature_quantity)  # (10, 4)\n",
        "b1 = np.zeros(shape=(weights_quantity, 1))  # (10, 1)\n",
        "\n",
        "w2 = np.random.randn(class_quantity, weights_quantity)  # (3, 10)\n",
        "b2 = np.zeros(shape=(class_quantity, 1)) # (3, 1)\n",
        "\n",
        "parameters = {'w1': w1, 'b1': b1, 'w2': w2, 'b2': b2}"
      ],
      "metadata": {
        "id": "_Crs7oNLYdJz"
      },
      "execution_count": null,
      "outputs": []
    },
    {
      "cell_type": "code",
      "source": [
        "# 訓練次數\n",
        "num_iterations = 10000\n",
        "\n",
        "for i in range(0, num_iterations):\n",
        "    # 1. 前向傳播\n",
        "    a2, cache = forward_propagation(train_data, parameters)\n",
        "    # 2. 計算損失值\n",
        "    cost = compute_cost(a2, label_data)\n",
        "    # 3. 反向傳播\n",
        "    grads = backward_propagation(parameters, cache, train_data, label_data)\n",
        "    # 4. 更新參數\n",
        "    parameters = update_parameters(parameters, grads)\n",
        "\n",
        "    # print loss\n",
        "    if i % 1000 == 0:\n",
        "        print(f'訓練第 {i} 次，損失值：{cost}')"
      ],
      "metadata": {
        "id": "1tSDX4zz4RN2"
      },
      "execution_count": null,
      "outputs": []
    },
    {
      "cell_type": "markdown",
      "source": [],
      "metadata": {
        "id": "sle4WYstGaoF"
      }
    },
    {
      "cell_type": "code",
      "execution_count": null,
      "metadata": {
        "id": "Xxn0p-n4t8x4"
      },
      "outputs": [],
      "source": [
        "# 評估模型的準確率\n",
        "from units import evaluate_accuracy\n",
        "\n",
        "evaluate_accuracy(data_test, parameters)"
      ]
    },
    {
      "cell_type": "markdown",
      "source": [
        "## How to make it better?\n",
        "\n"
      ],
      "metadata": {
        "id": "WGDBfnk-N1AA"
      }
    },
    {
      "cell_type": "markdown",
      "source": [
        "1. 數據擴增\n",
        "2. 模型疊更深\n",
        "3. 增加更多模態的資料 -> [範例研究](https://arxiv.org/abs/1705.07750)\n",
        "---------------------\n",
        "4. 定義與識別化挑戰\n",
        "5. 嘗試不同的超參數\n",
        "6. 修改模型\n",
        "7. 調整優化器、設計損失函數\n",
        "8. 4~7 不斷進行迴圈，直到模型的表現達到業務需求\n"
      ],
      "metadata": {
        "id": "yxC0Fsw9dQKw"
      }
    },
    {
      "cell_type": "markdown",
      "source": [
        "## 隨堂練習 D"
      ],
      "metadata": {
        "id": "NKV57f8RPpDT"
      }
    },
    {
      "cell_type": "code",
      "source": [
        "#@title 練習 1：調整參數，找到局部最小值\n",
        "### 情境：演算法開發，嘗試條超參數，使得模型收斂至局部最小點\n",
        "from units import test_gradient_descent\n",
        "\n",
        "### 實作練習 ###\n",
        "\n",
        "learning_rate = 0.05 # <- 挑整數值，調整策略：10倍、1/10倍、5倍、1/5倍調整\n",
        "test_gradient_descent(0, learning_rate, 30)\n",
        "\n",
        "### 實作練習 ###\n",
        "\n",
        "### 練習結果\n",
        "# 使得圖表中紅點，從一個方向平滑地下落到，局部最小值即可\n",
        "# 可能出現 'Numerical result out of range' 代表值變無窮大，學習率可拉小試試"
      ],
      "metadata": {
        "id": "iOyCUl0YhkDB",
        "cellView": "form"
      },
      "execution_count": null,
      "outputs": []
    },
    {
      "cell_type": "markdown",
      "source": [
        "### 練習 2：預測乳癌機率"
      ],
      "metadata": {
        "id": "1hn26-PhS90L"
      }
    },
    {
      "cell_type": "markdown",
      "source": [
        "\n",
        "Breast cancer wisconsin (diagnostic) dataset\n",
        "資料集介紹 -> [連結](https://scikit-learn.org/stable/datasets/toy_dataset.html#breast-cancer-wisconsin-diagnostic-dataset)"
      ],
      "metadata": {
        "id": "dSVULeqFJFqx"
      }
    },
    {
      "cell_type": "code",
      "source": [
        "### 情境：使用類神經網路，做乳癌的症狀分析\n",
        "from sklearn.datasets import load_breast_cancer\n",
        "\n",
        "data = load_breast_cancer()\n",
        "X = data.data\n",
        "print(X.shape) # (資料數量, 特徵數量)\n",
        "print('輸出類別維度為 2：正常 or 異常')\n",
        "\n",
        "# print('資料特徵：')\n",
        "# print(X[0, :]) # 第0筆的資料特徵，可參照上方連結"
      ],
      "metadata": {
        "id": "BAbukS-TWnKq"
      },
      "execution_count": null,
      "outputs": []
    },
    {
      "cell_type": "code",
      "source": [
        "### 情境：使用類神經網路，做乳癌的症狀分析\n",
        "### 參考：(10. 建立類神經模型)\n",
        "from units import build_and_train\n",
        "\n",
        "### 實作練習 ###\n",
        "\n",
        "feature_quantity = ?\n",
        "weights_quantity = ?\n",
        "class_quantity = ?\n",
        "\n",
        "# first_layer : (weights_quantity, feature_quantity)\n",
        "# second_layer : (class_quantity, weights_quantity)\n",
        "\n",
        "learning_rate = 0.01\n",
        "epochs = ? # 試著不斷往上增加\n",
        "\n",
        "### 實作練習 ###\n",
        "\n",
        "loss_list = build_and_train(feature_quantity, weights_quantity, class_quantity, epochs, learning_rate)\n",
        "\n",
        "### 實作結果\n",
        "# 正常狀況 Test Accuracy 會超過 0.95"
      ],
      "metadata": {
        "id": "Xc9UsYEGPqv4"
      },
      "execution_count": null,
      "outputs": []
    },
    {
      "cell_type": "markdown",
      "source": [
        "### 練習 3：使用動量調整超參數"
      ],
      "metadata": {
        "id": "4UT4FLHNYHJU"
      }
    },
    {
      "cell_type": "code",
      "source": [
        "\n",
        "# 情境：你現在是一為調參工程師，請試著調整參數，訓練你的類神經模型。\n",
        "# x_init：不能修改\n",
        "# learning_rate, num_iterations, momentum：可以修改\n",
        "from units import test_gd_with_momentum\n",
        "\n",
        "### 實作練習 ###\n",
        "\n",
        "x_init = 5  # 參數初始化\n",
        "learning_rate = 0.1\n",
        "num_iterations = 30\n",
        "momentum = 0.9\n",
        "\n",
        "### 實作練習 ###\n",
        "\n",
        "test_gd_with_momentum(x_init, learning_rate, num_iterations, momentum)\n",
        "### 實作結果 -> 開啟左側的 gd_vs_gd_momentum_sine.gif 觀測結果\n",
        "# 動量梯度下降法(綠色)，可以從右側 x = 5，優化到 x=-1.7 的局部極小值"
      ],
      "metadata": {
        "id": "0ebch8NkKfQF"
      },
      "execution_count": null,
      "outputs": []
    },
    {
      "cell_type": "markdown",
      "source": [
        "## 附錄"
      ],
      "metadata": {
        "id": "W9HUlONOgMKG"
      }
    },
    {
      "cell_type": "markdown",
      "source": [
        "### 交叉熵損失函數的微分推導\n",
        "\n",
        "假設我們有一個二分類問題，真實標籤為 \\\\(y\\\\)，預測概率為 \\\\(\\hat{y}\\\\)。\n",
        "\n",
        "#### 1. 交叉熵損失函數\n",
        "\n",
        "交叉熵損失函數定義為：\n",
        "\n",
        "\\\\[ L = -[ y \\log(\\hat{y}) + (1 - y) \\log(1 - \\hat{y}) ] \\\\]\n",
        "\n",
        "#### 2. Sigmoid 函數\n",
        "\n",
        "Sigmoid 函數定義為：\n",
        "\n",
        "\\\\[ \\sigma(z) = \\frac{1}{1 + e^{-z}} \\\\]\n",
        "\n",
        "預測概率 \\\\(\\hat{y}\\\\) 可以表示為：\n",
        "\n",
        "\\\\[ \\hat{y} = \\sigma(z) = \\frac{1}{1 + e^{-z}} \\\\]\n",
        "\n",
        "#### 3. 交叉熵損失函數對 logits \\\\( z \\\\) 的導數\n",
        "\n",
        "##### 3.1 交叉熵損失函數對 \\\\(\\hat{y}\\\\) 的導數\n",
        "\n",
        "\\\\[ \\frac{\\partial L}{\\partial \\hat{y}} = -\\frac{y}{\\hat{y}} + \\frac{1 - y}{1 - \\hat{y}} \\\\]\n",
        "\n",
        "##### 3.2 Sigmoid 函數對 \\\\( z \\\\) 的導數\n",
        "\n",
        "\\\\[ \\frac{\\partial \\hat{y}}{\\partial z} = \\sigma(z) (1 - \\sigma(z)) = \\hat{y} (1 - \\hat{y}) \\\\]\n",
        "\n",
        "##### 3.3 使用鏈式法則\n",
        "\n",
        "\\\\[ \\frac{\\partial L}{\\partial z} = \\frac{\\partial L}{\\partial \\hat{y}} \\cdot \\frac{\\partial \\hat{y}}{\\partial z} \\\\]\n",
        "\n",
        "將前面的導數結果代入，得到：\n",
        "\n",
        "\\\\[ \\frac{\\partial L}{\\partial z} = \\left(-\\frac{y}{\\hat{y}} + \\frac{1 - y}{1 - \\hat{y}}\\right) \\cdot \\hat{y} (1 - \\hat{y}) \\\\]\n",
        "\n",
        "簡化後：\n",
        "\n",
        "\\\\[ \\frac{\\partial L}{\\partial z} = -y (1 - \\hat{y}) + (1 - y) \\hat{y} \\\\]\n",
        "\n",
        "\\\\[ \\frac{\\partial L}{\\partial z} = -y + y \\hat{y} + \\hat{y} - y \\hat{y} \\\\]\n",
        "\n",
        "\\\\[ \\frac{\\partial L}{\\partial z} = \\hat{y} - y \\\\]\n",
        "\n",
        "### 結論\n",
        "\n",
        "通過上述推導，我們得到了交叉熵損失函數對 logits \\\\( z \\\\) 的導數：\n",
        "\n",
        "\\\\[ \\frac{\\partial L}{\\partial z} = \\hat{y} - y \\\\]\n"
      ],
      "metadata": {
        "id": "Ga0tu7GzgQqI"
      }
    }
  ]
}