#@title 安裝套件 專案資訊 -> [網址](https://twstock.readthedocs.io/zh-tw/latest/)
!pip install twstock

import twstock


# 設定股票號碼
stock = twstock.Stock("1301")

#設定時間
stocklist = stock.fetch(2024, 0)



# 觀察資料
stocklist[0]


# 迴圈拉出一個月的資料
for stock in stocklist:
  strdate = stock.date.strftime("%Y-%m-%d")

  #    ["日期",  "成交股數",      "成交金額",       "開盤價",    "最高價",    "最低價",   "收盤價",     "漲跌價差",    "成交筆數"]
  li = [strdate, stock.capacity, stock.turnover, stock.open, stock.high, stock.low, stock.close, stock.change, stock.transaction]

print(f'總共爬到的資料天數：{len(stocklist)}')
print(f'最後一天的資料：{li}')




#@title 設定路徑與超參數
import csv
import twstock
import os

filepath = "stock2024.csv"
month_length = 4




#@title 使用迴圈，把多個月份資料存放到 data
data = []

for i in range(1, month_length):
    stock = twstock.Stock("1301")
    stocklist = stock.fetch(2024, i)

    for stock in stocklist:
        strdate = stock.date.strftime("%Y-%m-%d")
        li = [strdate, stock.capacity, stock.turnover, stock.open, stock.high, stock.low, stock.close, stock.change, stock.transaction]
        data.append(li)




#@title 資料儲存
outputfile = open(filepath, "w", newline = "", encoding = "big5")
outputwriter = csv.writer(outputfile)

# 先撰寫標題
title = ["Date", "Volume", "Transaction Amount", "Opening Price", "Highest Price", "Lowest Price", "Closing Price", "Price Change", "Number of Transactions"]
outputwriter.writerow(title)

for dataline in (data):
    outputwriter.writerow(dataline)
outputfile.close()

